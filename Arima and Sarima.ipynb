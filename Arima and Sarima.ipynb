{
 "cells": [
  {
   "cell_type": "code",
   "execution_count": 113,
   "id": "a3fe9a72",
   "metadata": {},
   "outputs": [],
   "source": [
    "import numpy as np\n",
    "import pandas as pd\n",
    "import matplotlib.pyplot as plt\n",
    "import statsmodels.api as sms #necessary lib to implement\n"
   ]
  },
  {
   "cell_type": "code",
   "execution_count": 114,
   "id": "b8351886",
   "metadata": {},
   "outputs": [],
   "source": [
    "df=pd.read_csv(\"airline_passengers.csv\")"
   ]
  },
  {
   "cell_type": "code",
   "execution_count": 115,
   "id": "352af6b3",
   "metadata": {},
   "outputs": [
    {
     "data": {
      "text/html": [
       "<div>\n",
       "<style scoped>\n",
       "    .dataframe tbody tr th:only-of-type {\n",
       "        vertical-align: middle;\n",
       "    }\n",
       "\n",
       "    .dataframe tbody tr th {\n",
       "        vertical-align: top;\n",
       "    }\n",
       "\n",
       "    .dataframe thead th {\n",
       "        text-align: right;\n",
       "    }\n",
       "</style>\n",
       "<table border=\"1\" class=\"dataframe\">\n",
       "  <thead>\n",
       "    <tr style=\"text-align: right;\">\n",
       "      <th></th>\n",
       "      <th>Month</th>\n",
       "      <th>Thousands of Passengers</th>\n",
       "    </tr>\n",
       "  </thead>\n",
       "  <tbody>\n",
       "    <tr>\n",
       "      <th>0</th>\n",
       "      <td>1949-01</td>\n",
       "      <td>112.0</td>\n",
       "    </tr>\n",
       "    <tr>\n",
       "      <th>1</th>\n",
       "      <td>1949-02</td>\n",
       "      <td>118.0</td>\n",
       "    </tr>\n",
       "    <tr>\n",
       "      <th>2</th>\n",
       "      <td>1949-03</td>\n",
       "      <td>132.0</td>\n",
       "    </tr>\n",
       "    <tr>\n",
       "      <th>3</th>\n",
       "      <td>1949-04</td>\n",
       "      <td>129.0</td>\n",
       "    </tr>\n",
       "    <tr>\n",
       "      <th>4</th>\n",
       "      <td>1949-05</td>\n",
       "      <td>121.0</td>\n",
       "    </tr>\n",
       "  </tbody>\n",
       "</table>\n",
       "</div>"
      ],
      "text/plain": [
       "     Month  Thousands of Passengers\n",
       "0  1949-01                    112.0\n",
       "1  1949-02                    118.0\n",
       "2  1949-03                    132.0\n",
       "3  1949-04                    129.0\n",
       "4  1949-05                    121.0"
      ]
     },
     "execution_count": 115,
     "metadata": {},
     "output_type": "execute_result"
    }
   ],
   "source": [
    "df.head()"
   ]
  },
  {
   "cell_type": "code",
   "execution_count": 116,
   "id": "9d3603b2",
   "metadata": {},
   "outputs": [
    {
     "data": {
      "text/plain": [
       "dtype('O')"
      ]
     },
     "execution_count": 116,
     "metadata": {},
     "output_type": "execute_result"
    }
   ],
   "source": [
    "df[\"Month\"].dtypes"
   ]
  },
  {
   "cell_type": "code",
   "execution_count": 117,
   "id": "b9d52fc7",
   "metadata": {},
   "outputs": [
    {
     "data": {
      "text/plain": [
       "Month                      0\n",
       "Thousands of Passengers    1\n",
       "dtype: int64"
      ]
     },
     "execution_count": 117,
     "metadata": {},
     "output_type": "execute_result"
    }
   ],
   "source": [
    "df.isnull().sum()"
   ]
  },
  {
   "cell_type": "code",
   "execution_count": 118,
   "id": "177ba0b8",
   "metadata": {},
   "outputs": [],
   "source": [
    "df.dropna(axis=0,inplace=True) "
   ]
  },
  {
   "cell_type": "code",
   "execution_count": 119,
   "id": "958380c2",
   "metadata": {},
   "outputs": [
    {
     "data": {
      "text/plain": [
       "Month                      0\n",
       "Thousands of Passengers    0\n",
       "dtype: int64"
      ]
     },
     "execution_count": 119,
     "metadata": {},
     "output_type": "execute_result"
    }
   ],
   "source": [
    "df.isnull().sum()"
   ]
  },
  {
   "cell_type": "code",
   "execution_count": 120,
   "id": "cbc64f7b",
   "metadata": {},
   "outputs": [],
   "source": [
    "df['Month']=pd.to_datetime(df['Month'])"
   ]
  },
  {
   "cell_type": "code",
   "execution_count": 121,
   "id": "7495a4f3",
   "metadata": {},
   "outputs": [
    {
     "name": "stdout",
     "output_type": "stream",
     "text": [
      "<class 'pandas.core.frame.DataFrame'>\n",
      "Index: 144 entries, 0 to 143\n",
      "Data columns (total 2 columns):\n",
      " #   Column                   Non-Null Count  Dtype         \n",
      "---  ------                   --------------  -----         \n",
      " 0   Month                    144 non-null    datetime64[ns]\n",
      " 1   Thousands of Passengers  144 non-null    float64       \n",
      "dtypes: datetime64[ns](1), float64(1)\n",
      "memory usage: 3.4 KB\n"
     ]
    }
   ],
   "source": [
    "df.info()"
   ]
  },
  {
   "cell_type": "code",
   "execution_count": 122,
   "id": "ca5ddff5",
   "metadata": {},
   "outputs": [
    {
     "data": {
      "text/html": [
       "<div>\n",
       "<style scoped>\n",
       "    .dataframe tbody tr th:only-of-type {\n",
       "        vertical-align: middle;\n",
       "    }\n",
       "\n",
       "    .dataframe tbody tr th {\n",
       "        vertical-align: top;\n",
       "    }\n",
       "\n",
       "    .dataframe thead th {\n",
       "        text-align: right;\n",
       "    }\n",
       "</style>\n",
       "<table border=\"1\" class=\"dataframe\">\n",
       "  <thead>\n",
       "    <tr style=\"text-align: right;\">\n",
       "      <th></th>\n",
       "      <th>Month</th>\n",
       "      <th>Thousands of Passengers</th>\n",
       "    </tr>\n",
       "  </thead>\n",
       "  <tbody>\n",
       "    <tr>\n",
       "      <th>0</th>\n",
       "      <td>1949-01-01</td>\n",
       "      <td>112.0</td>\n",
       "    </tr>\n",
       "    <tr>\n",
       "      <th>1</th>\n",
       "      <td>1949-02-01</td>\n",
       "      <td>118.0</td>\n",
       "    </tr>\n",
       "    <tr>\n",
       "      <th>2</th>\n",
       "      <td>1949-03-01</td>\n",
       "      <td>132.0</td>\n",
       "    </tr>\n",
       "    <tr>\n",
       "      <th>3</th>\n",
       "      <td>1949-04-01</td>\n",
       "      <td>129.0</td>\n",
       "    </tr>\n",
       "    <tr>\n",
       "      <th>4</th>\n",
       "      <td>1949-05-01</td>\n",
       "      <td>121.0</td>\n",
       "    </tr>\n",
       "  </tbody>\n",
       "</table>\n",
       "</div>"
      ],
      "text/plain": [
       "       Month  Thousands of Passengers\n",
       "0 1949-01-01                    112.0\n",
       "1 1949-02-01                    118.0\n",
       "2 1949-03-01                    132.0\n",
       "3 1949-04-01                    129.0\n",
       "4 1949-05-01                    121.0"
      ]
     },
     "execution_count": 122,
     "metadata": {},
     "output_type": "execute_result"
    }
   ],
   "source": [
    "df.head()"
   ]
  },
  {
   "cell_type": "code",
   "execution_count": 123,
   "id": "157e7108",
   "metadata": {},
   "outputs": [],
   "source": [
    "df.set_index(\"Month\",inplace=True)"
   ]
  },
  {
   "cell_type": "code",
   "execution_count": 124,
   "id": "316af1be",
   "metadata": {},
   "outputs": [
    {
     "data": {
      "text/html": [
       "<div>\n",
       "<style scoped>\n",
       "    .dataframe tbody tr th:only-of-type {\n",
       "        vertical-align: middle;\n",
       "    }\n",
       "\n",
       "    .dataframe tbody tr th {\n",
       "        vertical-align: top;\n",
       "    }\n",
       "\n",
       "    .dataframe thead th {\n",
       "        text-align: right;\n",
       "    }\n",
       "</style>\n",
       "<table border=\"1\" class=\"dataframe\">\n",
       "  <thead>\n",
       "    <tr style=\"text-align: right;\">\n",
       "      <th></th>\n",
       "      <th>Thousands of Passengers</th>\n",
       "    </tr>\n",
       "    <tr>\n",
       "      <th>Month</th>\n",
       "      <th></th>\n",
       "    </tr>\n",
       "  </thead>\n",
       "  <tbody>\n",
       "    <tr>\n",
       "      <th>1949-01-01</th>\n",
       "      <td>112.0</td>\n",
       "    </tr>\n",
       "    <tr>\n",
       "      <th>1949-02-01</th>\n",
       "      <td>118.0</td>\n",
       "    </tr>\n",
       "    <tr>\n",
       "      <th>1949-03-01</th>\n",
       "      <td>132.0</td>\n",
       "    </tr>\n",
       "    <tr>\n",
       "      <th>1949-04-01</th>\n",
       "      <td>129.0</td>\n",
       "    </tr>\n",
       "    <tr>\n",
       "      <th>1949-05-01</th>\n",
       "      <td>121.0</td>\n",
       "    </tr>\n",
       "    <tr>\n",
       "      <th>...</th>\n",
       "      <td>...</td>\n",
       "    </tr>\n",
       "    <tr>\n",
       "      <th>1960-08-01</th>\n",
       "      <td>606.0</td>\n",
       "    </tr>\n",
       "    <tr>\n",
       "      <th>1960-09-01</th>\n",
       "      <td>508.0</td>\n",
       "    </tr>\n",
       "    <tr>\n",
       "      <th>1960-10-01</th>\n",
       "      <td>461.0</td>\n",
       "    </tr>\n",
       "    <tr>\n",
       "      <th>1960-11-01</th>\n",
       "      <td>390.0</td>\n",
       "    </tr>\n",
       "    <tr>\n",
       "      <th>1960-12-01</th>\n",
       "      <td>432.0</td>\n",
       "    </tr>\n",
       "  </tbody>\n",
       "</table>\n",
       "<p>144 rows × 1 columns</p>\n",
       "</div>"
      ],
      "text/plain": [
       "            Thousands of Passengers\n",
       "Month                              \n",
       "1949-01-01                    112.0\n",
       "1949-02-01                    118.0\n",
       "1949-03-01                    132.0\n",
       "1949-04-01                    129.0\n",
       "1949-05-01                    121.0\n",
       "...                             ...\n",
       "1960-08-01                    606.0\n",
       "1960-09-01                    508.0\n",
       "1960-10-01                    461.0\n",
       "1960-11-01                    390.0\n",
       "1960-12-01                    432.0\n",
       "\n",
       "[144 rows x 1 columns]"
      ]
     },
     "execution_count": 124,
     "metadata": {},
     "output_type": "execute_result"
    }
   ],
   "source": [
    "df"
   ]
  },
  {
   "cell_type": "code",
   "execution_count": 125,
   "id": "f6bd72c7",
   "metadata": {},
   "outputs": [
    {
     "data": {
      "text/plain": [
       "<Axes: xlabel='Month'>"
      ]
     },
     "execution_count": 125,
     "metadata": {},
     "output_type": "execute_result"
    },
    {
     "data": {
      "image/png": "[encoded data removed]",
      "text/plain": [
       "<Figure size 640x480 with 1 Axes>"
      ]
     },
     "metadata": {},
     "output_type": "display_data"
    }
   ],
   "source": [
    "df.plot()"
   ]
  },
  {
   "cell_type": "code",
   "execution_count": 126,
   "id": "4717340c",
   "metadata": {},
   "outputs": [],
   "source": [
    "#Dickey Fuller Test\n",
    "from statsmodels.tsa.stattools import adfuller"
   ]
  },
  {
   "cell_type": "code",
   "execution_count": 127,
   "id": "665ab076",
   "metadata": {},
   "outputs": [],
   "source": [
    "def adf_test(series):\n",
    "    result=adfuller(series)\n",
    "    print(\"ADF Statistics : {}\".format(result[0]))\n",
    "    print(\"p-value:{}\".format(result[1]))\n",
    "    if result[1]<=0.05:\n",
    "        print(\"Strong evidence against null hypothesis, The data has no unit root,indicating it is stationary\")\n",
    "    else:\n",
    "        print(\"Weak evidence against null hypothesis, time series has a unit root,indicating it is non-stationary\")"
   ]
  },
  {
   "cell_type": "code",
   "execution_count": 128,
   "id": "580172d5",
   "metadata": {},
   "outputs": [
    {
     "name": "stdout",
     "output_type": "stream",
     "text": [
      "ADF Statistics : 0.8153688792060511\n",
      "p-value:0.991880243437641\n",
      "Weak evidence against null hypothesis, time series has a unit root,indicating it is non-stationary\n"
     ]
    }
   ],
   "source": [
    "adf_test(df['Thousands of Passengers'])"
   ]
  },
  {
   "cell_type": "code",
   "execution_count": 129,
   "id": "43f82938",
   "metadata": {},
   "outputs": [],
   "source": [
    "#Differencing technique"
   ]
  },
  {
   "cell_type": "code",
   "execution_count": 130,
   "id": "ff35dd24",
   "metadata": {},
   "outputs": [],
   "source": [
    "df['Passenger difference']=df['Thousands of Passengers']-df['Thousands of Passengers'].shift(1)"
   ]
  },
  {
   "cell_type": "code",
   "execution_count": 131,
   "id": "72c813b6",
   "metadata": {},
   "outputs": [
    {
     "data": {
      "text/html": [
       "<div>\n",
       "<style scoped>\n",
       "    .dataframe tbody tr th:only-of-type {\n",
       "        vertical-align: middle;\n",
       "    }\n",
       "\n",
       "    .dataframe tbody tr th {\n",
       "        vertical-align: top;\n",
       "    }\n",
       "\n",
       "    .dataframe thead th {\n",
       "        text-align: right;\n",
       "    }\n",
       "</style>\n",
       "<table border=\"1\" class=\"dataframe\">\n",
       "  <thead>\n",
       "    <tr style=\"text-align: right;\">\n",
       "      <th></th>\n",
       "      <th>Thousands of Passengers</th>\n",
       "      <th>Passenger difference</th>\n",
       "    </tr>\n",
       "    <tr>\n",
       "      <th>Month</th>\n",
       "      <th></th>\n",
       "      <th></th>\n",
       "    </tr>\n",
       "  </thead>\n",
       "  <tbody>\n",
       "    <tr>\n",
       "      <th>1949-01-01</th>\n",
       "      <td>112.0</td>\n",
       "      <td>NaN</td>\n",
       "    </tr>\n",
       "    <tr>\n",
       "      <th>1949-02-01</th>\n",
       "      <td>118.0</td>\n",
       "      <td>6.0</td>\n",
       "    </tr>\n",
       "    <tr>\n",
       "      <th>1949-03-01</th>\n",
       "      <td>132.0</td>\n",
       "      <td>14.0</td>\n",
       "    </tr>\n",
       "    <tr>\n",
       "      <th>1949-04-01</th>\n",
       "      <td>129.0</td>\n",
       "      <td>-3.0</td>\n",
       "    </tr>\n",
       "    <tr>\n",
       "      <th>1949-05-01</th>\n",
       "      <td>121.0</td>\n",
       "      <td>-8.0</td>\n",
       "    </tr>\n",
       "    <tr>\n",
       "      <th>...</th>\n",
       "      <td>...</td>\n",
       "      <td>...</td>\n",
       "    </tr>\n",
       "    <tr>\n",
       "      <th>1960-08-01</th>\n",
       "      <td>606.0</td>\n",
       "      <td>-16.0</td>\n",
       "    </tr>\n",
       "    <tr>\n",
       "      <th>1960-09-01</th>\n",
       "      <td>508.0</td>\n",
       "      <td>-98.0</td>\n",
       "    </tr>\n",
       "    <tr>\n",
       "      <th>1960-10-01</th>\n",
       "      <td>461.0</td>\n",
       "      <td>-47.0</td>\n",
       "    </tr>\n",
       "    <tr>\n",
       "      <th>1960-11-01</th>\n",
       "      <td>390.0</td>\n",
       "      <td>-71.0</td>\n",
       "    </tr>\n",
       "    <tr>\n",
       "      <th>1960-12-01</th>\n",
       "      <td>432.0</td>\n",
       "      <td>42.0</td>\n",
       "    </tr>\n",
       "  </tbody>\n",
       "</table>\n",
       "<p>144 rows × 2 columns</p>\n",
       "</div>"
      ],
      "text/plain": [
       "            Thousands of Passengers  Passenger difference\n",
       "Month                                                    \n",
       "1949-01-01                    112.0                   NaN\n",
       "1949-02-01                    118.0                   6.0\n",
       "1949-03-01                    132.0                  14.0\n",
       "1949-04-01                    129.0                  -3.0\n",
       "1949-05-01                    121.0                  -8.0\n",
       "...                             ...                   ...\n",
       "1960-08-01                    606.0                 -16.0\n",
       "1960-09-01                    508.0                 -98.0\n",
       "1960-10-01                    461.0                 -47.0\n",
       "1960-11-01                    390.0                 -71.0\n",
       "1960-12-01                    432.0                  42.0\n",
       "\n",
       "[144 rows x 2 columns]"
      ]
     },
     "execution_count": 131,
     "metadata": {},
     "output_type": "execute_result"
    }
   ],
   "source": [
    "df"
   ]
  },
  {
   "cell_type": "code",
   "execution_count": 132,
   "id": "96d30665",
   "metadata": {},
   "outputs": [
    {
     "name": "stdout",
     "output_type": "stream",
     "text": [
      "ADF Statistics : -2.8292668241699874\n",
      "p-value:0.05421329028382711\n",
      "Weak evidence against null hypothesis, time series has a unit root,indicating it is non-stationary\n"
     ]
    }
   ],
   "source": [
    "adf_test(df['Passenger difference'].dropna())"
   ]
  },
  {
   "cell_type": "code",
   "execution_count": 133,
   "id": "0444dd9e",
   "metadata": {},
   "outputs": [],
   "source": [
    "df['Second difference']=df['Passenger difference']-df['Passenger difference'].shift(1)"
   ]
  },
  {
   "cell_type": "code",
   "execution_count": 134,
   "id": "78b5eff7",
   "metadata": {},
   "outputs": [
    {
     "data": {
      "text/html": [
       "<div>\n",
       "<style scoped>\n",
       "    .dataframe tbody tr th:only-of-type {\n",
       "        vertical-align: middle;\n",
       "    }\n",
       "\n",
       "    .dataframe tbody tr th {\n",
       "        vertical-align: top;\n",
       "    }\n",
       "\n",
       "    .dataframe thead th {\n",
       "        text-align: right;\n",
       "    }\n",
       "</style>\n",
       "<table border=\"1\" class=\"dataframe\">\n",
       "  <thead>\n",
       "    <tr style=\"text-align: right;\">\n",
       "      <th></th>\n",
       "      <th>Thousands of Passengers</th>\n",
       "      <th>Passenger difference</th>\n",
       "      <th>Second difference</th>\n",
       "    </tr>\n",
       "    <tr>\n",
       "      <th>Month</th>\n",
       "      <th></th>\n",
       "      <th></th>\n",
       "      <th></th>\n",
       "    </tr>\n",
       "  </thead>\n",
       "  <tbody>\n",
       "    <tr>\n",
       "      <th>1949-01-01</th>\n",
       "      <td>112.0</td>\n",
       "      <td>NaN</td>\n",
       "      <td>NaN</td>\n",
       "    </tr>\n",
       "    <tr>\n",
       "      <th>1949-02-01</th>\n",
       "      <td>118.0</td>\n",
       "      <td>6.0</td>\n",
       "      <td>NaN</td>\n",
       "    </tr>\n",
       "    <tr>\n",
       "      <th>1949-03-01</th>\n",
       "      <td>132.0</td>\n",
       "      <td>14.0</td>\n",
       "      <td>8.0</td>\n",
       "    </tr>\n",
       "    <tr>\n",
       "      <th>1949-04-01</th>\n",
       "      <td>129.0</td>\n",
       "      <td>-3.0</td>\n",
       "      <td>-17.0</td>\n",
       "    </tr>\n",
       "    <tr>\n",
       "      <th>1949-05-01</th>\n",
       "      <td>121.0</td>\n",
       "      <td>-8.0</td>\n",
       "      <td>-5.0</td>\n",
       "    </tr>\n",
       "  </tbody>\n",
       "</table>\n",
       "</div>"
      ],
      "text/plain": [
       "            Thousands of Passengers  Passenger difference  Second difference\n",
       "Month                                                                       \n",
       "1949-01-01                    112.0                   NaN                NaN\n",
       "1949-02-01                    118.0                   6.0                NaN\n",
       "1949-03-01                    132.0                  14.0                8.0\n",
       "1949-04-01                    129.0                  -3.0              -17.0\n",
       "1949-05-01                    121.0                  -8.0               -5.0"
      ]
     },
     "execution_count": 134,
     "metadata": {},
     "output_type": "execute_result"
    }
   ],
   "source": [
    "df.head()"
   ]
  },
  {
   "cell_type": "code",
   "execution_count": 135,
   "id": "efd2b346",
   "metadata": {},
   "outputs": [
    {
     "name": "stdout",
     "output_type": "stream",
     "text": [
      "ADF Statistics : -16.384231542468523\n",
      "p-value:2.7328918500141235e-29\n",
      "Strong evidence against null hypothesis, The data has no unit root,indicating it is stationary\n"
     ]
    }
   ],
   "source": [
    "adf_test(df['Second difference'].dropna())"
   ]
  },
  {
   "cell_type": "code",
   "execution_count": 136,
   "id": "057446bd",
   "metadata": {},
   "outputs": [],
   "source": [
    "from statsmodels.graphics.tsaplots import plot_acf , plot_pacf"
   ]
  },
  {
   "cell_type": "code",
   "execution_count": 137,
   "id": "ebb71cc1",
   "metadata": {},
   "outputs": [],
   "source": [
    "df['Passenger 12 difference']=df['Thousands of Passengers']-df['Thousands of Passengers'].shift(12)"
   ]
  },
  {
   "cell_type": "code",
   "execution_count": 138,
   "id": "3374b2c4",
   "metadata": {},
   "outputs": [
    {
     "data": {
      "text/html": [
       "<div>\n",
       "<style scoped>\n",
       "    .dataframe tbody tr th:only-of-type {\n",
       "        vertical-align: middle;\n",
       "    }\n",
       "\n",
       "    .dataframe tbody tr th {\n",
       "        vertical-align: top;\n",
       "    }\n",
       "\n",
       "    .dataframe thead th {\n",
       "        text-align: right;\n",
       "    }\n",
       "</style>\n",
       "<table border=\"1\" class=\"dataframe\">\n",
       "  <thead>\n",
       "    <tr style=\"text-align: right;\">\n",
       "      <th></th>\n",
       "      <th>Thousands of Passengers</th>\n",
       "      <th>Passenger difference</th>\n",
       "      <th>Second difference</th>\n",
       "      <th>Passenger 12 difference</th>\n",
       "    </tr>\n",
       "    <tr>\n",
       "      <th>Month</th>\n",
       "      <th></th>\n",
       "      <th></th>\n",
       "      <th></th>\n",
       "      <th></th>\n",
       "    </tr>\n",
       "  </thead>\n",
       "  <tbody>\n",
       "    <tr>\n",
       "      <th>1949-01-01</th>\n",
       "      <td>112.0</td>\n",
       "      <td>NaN</td>\n",
       "      <td>NaN</td>\n",
       "      <td>NaN</td>\n",
       "    </tr>\n",
       "    <tr>\n",
       "      <th>1949-02-01</th>\n",
       "      <td>118.0</td>\n",
       "      <td>6.0</td>\n",
       "      <td>NaN</td>\n",
       "      <td>NaN</td>\n",
       "    </tr>\n",
       "    <tr>\n",
       "      <th>1949-03-01</th>\n",
       "      <td>132.0</td>\n",
       "      <td>14.0</td>\n",
       "      <td>8.0</td>\n",
       "      <td>NaN</td>\n",
       "    </tr>\n",
       "    <tr>\n",
       "      <th>1949-04-01</th>\n",
       "      <td>129.0</td>\n",
       "      <td>-3.0</td>\n",
       "      <td>-17.0</td>\n",
       "      <td>NaN</td>\n",
       "    </tr>\n",
       "    <tr>\n",
       "      <th>1949-05-01</th>\n",
       "      <td>121.0</td>\n",
       "      <td>-8.0</td>\n",
       "      <td>-5.0</td>\n",
       "      <td>NaN</td>\n",
       "    </tr>\n",
       "  </tbody>\n",
       "</table>\n",
       "</div>"
      ],
      "text/plain": [
       "            Thousands of Passengers  Passenger difference  Second difference  \\\n",
       "Month                                                                          \n",
       "1949-01-01                    112.0                   NaN                NaN   \n",
       "1949-02-01                    118.0                   6.0                NaN   \n",
       "1949-03-01                    132.0                  14.0                8.0   \n",
       "1949-04-01                    129.0                  -3.0              -17.0   \n",
       "1949-05-01                    121.0                  -8.0               -5.0   \n",
       "\n",
       "            Passenger 12 difference  \n",
       "Month                                \n",
       "1949-01-01                      NaN  \n",
       "1949-02-01                      NaN  \n",
       "1949-03-01                      NaN  \n",
       "1949-04-01                      NaN  \n",
       "1949-05-01                      NaN  "
      ]
     },
     "execution_count": 138,
     "metadata": {},
     "output_type": "execute_result"
    }
   ],
   "source": [
    "df.head()"
   ]
  },
  {
   "cell_type": "code",
   "execution_count": 139,
   "id": "51b2117a",
   "metadata": {},
   "outputs": [
    {
     "name": "stdout",
     "output_type": "stream",
     "text": [
      "ADF Statistics : -3.3830207264924796\n",
      "p-value:0.011551493085515008\n",
      "Strong evidence against null hypothesis, The data has no unit root,indicating it is stationary\n"
     ]
    }
   ],
   "source": [
    "adf_test(df['Passenger 12 difference'].dropna())"
   ]
  },
  {
   "cell_type": "code",
   "execution_count": 140,
   "id": "4ee43968",
   "metadata": {},
   "outputs": [
    {
     "data": {
      "image/png": "[encoded data removed]",
      "text/plain": [
       "<Figure size 640x480 with 1 Axes>"
      ]
     },
     "metadata": {},
     "output_type": "display_data"
    }
   ],
   "source": [
    "acf=plot_acf(df['Second difference'].dropna())"
   ]
  },
  {
   "cell_type": "code",
   "execution_count": 141,
   "id": "e8d0a4f9",
   "metadata": {},
   "outputs": [],
   "source": [
    "#q value is given by acf. the q value for the above graph is 13. we can alo see that there is seasonality."
   ]
  },
  {
   "cell_type": "code",
   "execution_count": 142,
   "id": "742e3f67",
   "metadata": {},
   "outputs": [
    {
     "data": {
      "image/png": "[encoded data removed]",
      "text/plain": [
       "<Figure size 640x480 with 1 Axes>"
      ]
     },
     "metadata": {},
     "output_type": "display_data"
    }
   ],
   "source": [
    "acf12=plot_acf(df['Passenger 12 difference'].dropna())"
   ]
  },
  {
   "cell_type": "code",
   "execution_count": 143,
   "id": "8fff7f90",
   "metadata": {},
   "outputs": [],
   "source": [
    "# Here the q value is 5"
   ]
  },
  {
   "cell_type": "code",
   "execution_count": 144,
   "id": "37ca60e0",
   "metadata": {},
   "outputs": [
    {
     "data": {
      "image/png": "[encoded data removed]",
      "text/plain": [
       "<Figure size 640x480 with 1 Axes>"
      ]
     },
     "metadata": {},
     "output_type": "display_data"
    }
   ],
   "source": [
    "pacf=plot_pacf(df['Passenger 12 difference'].dropna())"
   ]
  },
  {
   "cell_type": "code",
   "execution_count": 145,
   "id": "5538aa28",
   "metadata": {},
   "outputs": [],
   "source": [
    "# Here p=2 , otherwise we can try p=10"
   ]
  },
  {
   "cell_type": "code",
   "execution_count": 146,
   "id": "98bbba1b",
   "metadata": {},
   "outputs": [
    {
     "data": {
      "text/html": [
       "<div>\n",
       "<style scoped>\n",
       "    .dataframe tbody tr th:only-of-type {\n",
       "        vertical-align: middle;\n",
       "    }\n",
       "\n",
       "    .dataframe tbody tr th {\n",
       "        vertical-align: top;\n",
       "    }\n",
       "\n",
       "    .dataframe thead th {\n",
       "        text-align: right;\n",
       "    }\n",
       "</style>\n",
       "<table border=\"1\" class=\"dataframe\">\n",
       "  <thead>\n",
       "    <tr style=\"text-align: right;\">\n",
       "      <th></th>\n",
       "      <th>Thousands of Passengers</th>\n",
       "      <th>Passenger difference</th>\n",
       "      <th>Second difference</th>\n",
       "      <th>Passenger 12 difference</th>\n",
       "    </tr>\n",
       "    <tr>\n",
       "      <th>Month</th>\n",
       "      <th></th>\n",
       "      <th></th>\n",
       "      <th></th>\n",
       "      <th></th>\n",
       "    </tr>\n",
       "  </thead>\n",
       "  <tbody>\n",
       "    <tr>\n",
       "      <th>1949-01-01</th>\n",
       "      <td>112.0</td>\n",
       "      <td>NaN</td>\n",
       "      <td>NaN</td>\n",
       "      <td>NaN</td>\n",
       "    </tr>\n",
       "    <tr>\n",
       "      <th>1949-02-01</th>\n",
       "      <td>118.0</td>\n",
       "      <td>6.0</td>\n",
       "      <td>NaN</td>\n",
       "      <td>NaN</td>\n",
       "    </tr>\n",
       "    <tr>\n",
       "      <th>1949-03-01</th>\n",
       "      <td>132.0</td>\n",
       "      <td>14.0</td>\n",
       "      <td>8.0</td>\n",
       "      <td>NaN</td>\n",
       "    </tr>\n",
       "    <tr>\n",
       "      <th>1949-04-01</th>\n",
       "      <td>129.0</td>\n",
       "      <td>-3.0</td>\n",
       "      <td>-17.0</td>\n",
       "      <td>NaN</td>\n",
       "    </tr>\n",
       "    <tr>\n",
       "      <th>1949-05-01</th>\n",
       "      <td>121.0</td>\n",
       "      <td>-8.0</td>\n",
       "      <td>-5.0</td>\n",
       "      <td>NaN</td>\n",
       "    </tr>\n",
       "    <tr>\n",
       "      <th>...</th>\n",
       "      <td>...</td>\n",
       "      <td>...</td>\n",
       "      <td>...</td>\n",
       "      <td>...</td>\n",
       "    </tr>\n",
       "    <tr>\n",
       "      <th>1960-08-01</th>\n",
       "      <td>606.0</td>\n",
       "      <td>-16.0</td>\n",
       "      <td>-103.0</td>\n",
       "      <td>47.0</td>\n",
       "    </tr>\n",
       "    <tr>\n",
       "      <th>1960-09-01</th>\n",
       "      <td>508.0</td>\n",
       "      <td>-98.0</td>\n",
       "      <td>-82.0</td>\n",
       "      <td>45.0</td>\n",
       "    </tr>\n",
       "    <tr>\n",
       "      <th>1960-10-01</th>\n",
       "      <td>461.0</td>\n",
       "      <td>-47.0</td>\n",
       "      <td>51.0</td>\n",
       "      <td>54.0</td>\n",
       "    </tr>\n",
       "    <tr>\n",
       "      <th>1960-11-01</th>\n",
       "      <td>390.0</td>\n",
       "      <td>-71.0</td>\n",
       "      <td>-24.0</td>\n",
       "      <td>28.0</td>\n",
       "    </tr>\n",
       "    <tr>\n",
       "      <th>1960-12-01</th>\n",
       "      <td>432.0</td>\n",
       "      <td>42.0</td>\n",
       "      <td>113.0</td>\n",
       "      <td>27.0</td>\n",
       "    </tr>\n",
       "  </tbody>\n",
       "</table>\n",
       "<p>144 rows × 4 columns</p>\n",
       "</div>"
      ],
      "text/plain": [
       "            Thousands of Passengers  Passenger difference  Second difference  \\\n",
       "Month                                                                          \n",
       "1949-01-01                    112.0                   NaN                NaN   \n",
       "1949-02-01                    118.0                   6.0                NaN   \n",
       "1949-03-01                    132.0                  14.0                8.0   \n",
       "1949-04-01                    129.0                  -3.0              -17.0   \n",
       "1949-05-01                    121.0                  -8.0               -5.0   \n",
       "...                             ...                   ...                ...   \n",
       "1960-08-01                    606.0                 -16.0             -103.0   \n",
       "1960-09-01                    508.0                 -98.0              -82.0   \n",
       "1960-10-01                    461.0                 -47.0               51.0   \n",
       "1960-11-01                    390.0                 -71.0              -24.0   \n",
       "1960-12-01                    432.0                  42.0              113.0   \n",
       "\n",
       "            Passenger 12 difference  \n",
       "Month                                \n",
       "1949-01-01                      NaN  \n",
       "1949-02-01                      NaN  \n",
       "1949-03-01                      NaN  \n",
       "1949-04-01                      NaN  \n",
       "1949-05-01                      NaN  \n",
       "...                             ...  \n",
       "1960-08-01                     47.0  \n",
       "1960-09-01                     45.0  \n",
       "1960-10-01                     54.0  \n",
       "1960-11-01                     28.0  \n",
       "1960-12-01                     27.0  \n",
       "\n",
       "[144 rows x 4 columns]"
      ]
     },
     "execution_count": 146,
     "metadata": {},
     "output_type": "execute_result"
    }
   ],
   "source": [
    "df"
   ]
  },
  {
   "cell_type": "code",
   "execution_count": 147,
   "id": "64443848",
   "metadata": {},
   "outputs": [],
   "source": [
    "from datetime import datetime,timedelta\n",
    "train_dataset_end= datetime(1955,12,1)\n",
    "test_dataset_end=datetime(1960,12,1)"
   ]
  },
  {
   "cell_type": "code",
   "execution_count": 148,
   "id": "73f54fe1",
   "metadata": {},
   "outputs": [],
   "source": [
    "train_data=df[:train_dataset_end]\n",
    "test_data=df[train_dataset_end+timedelta(days=1):test_dataset_end]"
   ]
  },
  {
   "cell_type": "code",
   "execution_count": 149,
   "id": "c7a10339",
   "metadata": {},
   "outputs": [
    {
     "data": {
      "text/html": [
       "<div>\n",
       "<style scoped>\n",
       "    .dataframe tbody tr th:only-of-type {\n",
       "        vertical-align: middle;\n",
       "    }\n",
       "\n",
       "    .dataframe tbody tr th {\n",
       "        vertical-align: top;\n",
       "    }\n",
       "\n",
       "    .dataframe thead th {\n",
       "        text-align: right;\n",
       "    }\n",
       "</style>\n",
       "<table border=\"1\" class=\"dataframe\">\n",
       "  <thead>\n",
       "    <tr style=\"text-align: right;\">\n",
       "      <th></th>\n",
       "      <th>Thousands of Passengers</th>\n",
       "      <th>Passenger difference</th>\n",
       "      <th>Second difference</th>\n",
       "      <th>Passenger 12 difference</th>\n",
       "    </tr>\n",
       "    <tr>\n",
       "      <th>Month</th>\n",
       "      <th></th>\n",
       "      <th></th>\n",
       "      <th></th>\n",
       "      <th></th>\n",
       "    </tr>\n",
       "  </thead>\n",
       "  <tbody>\n",
       "    <tr>\n",
       "      <th>1956-01-01</th>\n",
       "      <td>284.0</td>\n",
       "      <td>6.0</td>\n",
       "      <td>-35.0</td>\n",
       "      <td>42.0</td>\n",
       "    </tr>\n",
       "    <tr>\n",
       "      <th>1956-02-01</th>\n",
       "      <td>277.0</td>\n",
       "      <td>-7.0</td>\n",
       "      <td>-13.0</td>\n",
       "      <td>44.0</td>\n",
       "    </tr>\n",
       "    <tr>\n",
       "      <th>1956-03-01</th>\n",
       "      <td>317.0</td>\n",
       "      <td>40.0</td>\n",
       "      <td>47.0</td>\n",
       "      <td>50.0</td>\n",
       "    </tr>\n",
       "    <tr>\n",
       "      <th>1956-04-01</th>\n",
       "      <td>313.0</td>\n",
       "      <td>-4.0</td>\n",
       "      <td>-44.0</td>\n",
       "      <td>44.0</td>\n",
       "    </tr>\n",
       "    <tr>\n",
       "      <th>1956-05-01</th>\n",
       "      <td>318.0</td>\n",
       "      <td>5.0</td>\n",
       "      <td>9.0</td>\n",
       "      <td>48.0</td>\n",
       "    </tr>\n",
       "    <tr>\n",
       "      <th>1956-06-01</th>\n",
       "      <td>374.0</td>\n",
       "      <td>56.0</td>\n",
       "      <td>51.0</td>\n",
       "      <td>59.0</td>\n",
       "    </tr>\n",
       "    <tr>\n",
       "      <th>1956-07-01</th>\n",
       "      <td>413.0</td>\n",
       "      <td>39.0</td>\n",
       "      <td>-17.0</td>\n",
       "      <td>49.0</td>\n",
       "    </tr>\n",
       "    <tr>\n",
       "      <th>1956-08-01</th>\n",
       "      <td>405.0</td>\n",
       "      <td>-8.0</td>\n",
       "      <td>-47.0</td>\n",
       "      <td>58.0</td>\n",
       "    </tr>\n",
       "    <tr>\n",
       "      <th>1956-09-01</th>\n",
       "      <td>355.0</td>\n",
       "      <td>-50.0</td>\n",
       "      <td>-42.0</td>\n",
       "      <td>43.0</td>\n",
       "    </tr>\n",
       "    <tr>\n",
       "      <th>1956-10-01</th>\n",
       "      <td>306.0</td>\n",
       "      <td>-49.0</td>\n",
       "      <td>1.0</td>\n",
       "      <td>32.0</td>\n",
       "    </tr>\n",
       "    <tr>\n",
       "      <th>1956-11-01</th>\n",
       "      <td>271.0</td>\n",
       "      <td>-35.0</td>\n",
       "      <td>14.0</td>\n",
       "      <td>34.0</td>\n",
       "    </tr>\n",
       "    <tr>\n",
       "      <th>1956-12-01</th>\n",
       "      <td>306.0</td>\n",
       "      <td>35.0</td>\n",
       "      <td>70.0</td>\n",
       "      <td>28.0</td>\n",
       "    </tr>\n",
       "    <tr>\n",
       "      <th>1957-01-01</th>\n",
       "      <td>315.0</td>\n",
       "      <td>9.0</td>\n",
       "      <td>-26.0</td>\n",
       "      <td>31.0</td>\n",
       "    </tr>\n",
       "    <tr>\n",
       "      <th>1957-02-01</th>\n",
       "      <td>301.0</td>\n",
       "      <td>-14.0</td>\n",
       "      <td>-23.0</td>\n",
       "      <td>24.0</td>\n",
       "    </tr>\n",
       "    <tr>\n",
       "      <th>1957-03-01</th>\n",
       "      <td>356.0</td>\n",
       "      <td>55.0</td>\n",
       "      <td>69.0</td>\n",
       "      <td>39.0</td>\n",
       "    </tr>\n",
       "    <tr>\n",
       "      <th>1957-04-01</th>\n",
       "      <td>348.0</td>\n",
       "      <td>-8.0</td>\n",
       "      <td>-63.0</td>\n",
       "      <td>35.0</td>\n",
       "    </tr>\n",
       "    <tr>\n",
       "      <th>1957-05-01</th>\n",
       "      <td>355.0</td>\n",
       "      <td>7.0</td>\n",
       "      <td>15.0</td>\n",
       "      <td>37.0</td>\n",
       "    </tr>\n",
       "    <tr>\n",
       "      <th>1957-06-01</th>\n",
       "      <td>422.0</td>\n",
       "      <td>67.0</td>\n",
       "      <td>60.0</td>\n",
       "      <td>48.0</td>\n",
       "    </tr>\n",
       "    <tr>\n",
       "      <th>1957-07-01</th>\n",
       "      <td>465.0</td>\n",
       "      <td>43.0</td>\n",
       "      <td>-24.0</td>\n",
       "      <td>52.0</td>\n",
       "    </tr>\n",
       "    <tr>\n",
       "      <th>1957-08-01</th>\n",
       "      <td>467.0</td>\n",
       "      <td>2.0</td>\n",
       "      <td>-41.0</td>\n",
       "      <td>62.0</td>\n",
       "    </tr>\n",
       "    <tr>\n",
       "      <th>1957-09-01</th>\n",
       "      <td>404.0</td>\n",
       "      <td>-63.0</td>\n",
       "      <td>-65.0</td>\n",
       "      <td>49.0</td>\n",
       "    </tr>\n",
       "    <tr>\n",
       "      <th>1957-10-01</th>\n",
       "      <td>347.0</td>\n",
       "      <td>-57.0</td>\n",
       "      <td>6.0</td>\n",
       "      <td>41.0</td>\n",
       "    </tr>\n",
       "    <tr>\n",
       "      <th>1957-11-01</th>\n",
       "      <td>305.0</td>\n",
       "      <td>-42.0</td>\n",
       "      <td>15.0</td>\n",
       "      <td>34.0</td>\n",
       "    </tr>\n",
       "    <tr>\n",
       "      <th>1957-12-01</th>\n",
       "      <td>336.0</td>\n",
       "      <td>31.0</td>\n",
       "      <td>73.0</td>\n",
       "      <td>30.0</td>\n",
       "    </tr>\n",
       "    <tr>\n",
       "      <th>1958-01-01</th>\n",
       "      <td>340.0</td>\n",
       "      <td>4.0</td>\n",
       "      <td>-27.0</td>\n",
       "      <td>25.0</td>\n",
       "    </tr>\n",
       "    <tr>\n",
       "      <th>1958-02-01</th>\n",
       "      <td>318.0</td>\n",
       "      <td>-22.0</td>\n",
       "      <td>-26.0</td>\n",
       "      <td>17.0</td>\n",
       "    </tr>\n",
       "    <tr>\n",
       "      <th>1958-03-01</th>\n",
       "      <td>362.0</td>\n",
       "      <td>44.0</td>\n",
       "      <td>66.0</td>\n",
       "      <td>6.0</td>\n",
       "    </tr>\n",
       "    <tr>\n",
       "      <th>1958-04-01</th>\n",
       "      <td>348.0</td>\n",
       "      <td>-14.0</td>\n",
       "      <td>-58.0</td>\n",
       "      <td>0.0</td>\n",
       "    </tr>\n",
       "    <tr>\n",
       "      <th>1958-05-01</th>\n",
       "      <td>363.0</td>\n",
       "      <td>15.0</td>\n",
       "      <td>29.0</td>\n",
       "      <td>8.0</td>\n",
       "    </tr>\n",
       "    <tr>\n",
       "      <th>1958-06-01</th>\n",
       "      <td>435.0</td>\n",
       "      <td>72.0</td>\n",
       "      <td>57.0</td>\n",
       "      <td>13.0</td>\n",
       "    </tr>\n",
       "    <tr>\n",
       "      <th>1958-07-01</th>\n",
       "      <td>491.0</td>\n",
       "      <td>56.0</td>\n",
       "      <td>-16.0</td>\n",
       "      <td>26.0</td>\n",
       "    </tr>\n",
       "    <tr>\n",
       "      <th>1958-08-01</th>\n",
       "      <td>505.0</td>\n",
       "      <td>14.0</td>\n",
       "      <td>-42.0</td>\n",
       "      <td>38.0</td>\n",
       "    </tr>\n",
       "    <tr>\n",
       "      <th>1958-09-01</th>\n",
       "      <td>404.0</td>\n",
       "      <td>-101.0</td>\n",
       "      <td>-115.0</td>\n",
       "      <td>0.0</td>\n",
       "    </tr>\n",
       "    <tr>\n",
       "      <th>1958-10-01</th>\n",
       "      <td>359.0</td>\n",
       "      <td>-45.0</td>\n",
       "      <td>56.0</td>\n",
       "      <td>12.0</td>\n",
       "    </tr>\n",
       "    <tr>\n",
       "      <th>1958-11-01</th>\n",
       "      <td>310.0</td>\n",
       "      <td>-49.0</td>\n",
       "      <td>-4.0</td>\n",
       "      <td>5.0</td>\n",
       "    </tr>\n",
       "    <tr>\n",
       "      <th>1958-12-01</th>\n",
       "      <td>337.0</td>\n",
       "      <td>27.0</td>\n",
       "      <td>76.0</td>\n",
       "      <td>1.0</td>\n",
       "    </tr>\n",
       "    <tr>\n",
       "      <th>1959-01-01</th>\n",
       "      <td>360.0</td>\n",
       "      <td>23.0</td>\n",
       "      <td>-4.0</td>\n",
       "      <td>20.0</td>\n",
       "    </tr>\n",
       "    <tr>\n",
       "      <th>1959-02-01</th>\n",
       "      <td>342.0</td>\n",
       "      <td>-18.0</td>\n",
       "      <td>-41.0</td>\n",
       "      <td>24.0</td>\n",
       "    </tr>\n",
       "    <tr>\n",
       "      <th>1959-03-01</th>\n",
       "      <td>406.0</td>\n",
       "      <td>64.0</td>\n",
       "      <td>82.0</td>\n",
       "      <td>44.0</td>\n",
       "    </tr>\n",
       "    <tr>\n",
       "      <th>1959-04-01</th>\n",
       "      <td>396.0</td>\n",
       "      <td>-10.0</td>\n",
       "      <td>-74.0</td>\n",
       "      <td>48.0</td>\n",
       "    </tr>\n",
       "    <tr>\n",
       "      <th>1959-05-01</th>\n",
       "      <td>420.0</td>\n",
       "      <td>24.0</td>\n",
       "      <td>34.0</td>\n",
       "      <td>57.0</td>\n",
       "    </tr>\n",
       "    <tr>\n",
       "      <th>1959-06-01</th>\n",
       "      <td>472.0</td>\n",
       "      <td>52.0</td>\n",
       "      <td>28.0</td>\n",
       "      <td>37.0</td>\n",
       "    </tr>\n",
       "    <tr>\n",
       "      <th>1959-07-01</th>\n",
       "      <td>548.0</td>\n",
       "      <td>76.0</td>\n",
       "      <td>24.0</td>\n",
       "      <td>57.0</td>\n",
       "    </tr>\n",
       "    <tr>\n",
       "      <th>1959-08-01</th>\n",
       "      <td>559.0</td>\n",
       "      <td>11.0</td>\n",
       "      <td>-65.0</td>\n",
       "      <td>54.0</td>\n",
       "    </tr>\n",
       "    <tr>\n",
       "      <th>1959-09-01</th>\n",
       "      <td>463.0</td>\n",
       "      <td>-96.0</td>\n",
       "      <td>-107.0</td>\n",
       "      <td>59.0</td>\n",
       "    </tr>\n",
       "    <tr>\n",
       "      <th>1959-10-01</th>\n",
       "      <td>407.0</td>\n",
       "      <td>-56.0</td>\n",
       "      <td>40.0</td>\n",
       "      <td>48.0</td>\n",
       "    </tr>\n",
       "    <tr>\n",
       "      <th>1959-11-01</th>\n",
       "      <td>362.0</td>\n",
       "      <td>-45.0</td>\n",
       "      <td>11.0</td>\n",
       "      <td>52.0</td>\n",
       "    </tr>\n",
       "    <tr>\n",
       "      <th>1959-12-01</th>\n",
       "      <td>405.0</td>\n",
       "      <td>43.0</td>\n",
       "      <td>88.0</td>\n",
       "      <td>68.0</td>\n",
       "    </tr>\n",
       "    <tr>\n",
       "      <th>1960-01-01</th>\n",
       "      <td>417.0</td>\n",
       "      <td>12.0</td>\n",
       "      <td>-31.0</td>\n",
       "      <td>57.0</td>\n",
       "    </tr>\n",
       "    <tr>\n",
       "      <th>1960-02-01</th>\n",
       "      <td>391.0</td>\n",
       "      <td>-26.0</td>\n",
       "      <td>-38.0</td>\n",
       "      <td>49.0</td>\n",
       "    </tr>\n",
       "    <tr>\n",
       "      <th>1960-03-01</th>\n",
       "      <td>419.0</td>\n",
       "      <td>28.0</td>\n",
       "      <td>54.0</td>\n",
       "      <td>13.0</td>\n",
       "    </tr>\n",
       "    <tr>\n",
       "      <th>1960-04-01</th>\n",
       "      <td>461.0</td>\n",
       "      <td>42.0</td>\n",
       "      <td>14.0</td>\n",
       "      <td>65.0</td>\n",
       "    </tr>\n",
       "    <tr>\n",
       "      <th>1960-05-01</th>\n",
       "      <td>472.0</td>\n",
       "      <td>11.0</td>\n",
       "      <td>-31.0</td>\n",
       "      <td>52.0</td>\n",
       "    </tr>\n",
       "    <tr>\n",
       "      <th>1960-06-01</th>\n",
       "      <td>535.0</td>\n",
       "      <td>63.0</td>\n",
       "      <td>52.0</td>\n",
       "      <td>63.0</td>\n",
       "    </tr>\n",
       "    <tr>\n",
       "      <th>1960-07-01</th>\n",
       "      <td>622.0</td>\n",
       "      <td>87.0</td>\n",
       "      <td>24.0</td>\n",
       "      <td>74.0</td>\n",
       "    </tr>\n",
       "    <tr>\n",
       "      <th>1960-08-01</th>\n",
       "      <td>606.0</td>\n",
       "      <td>-16.0</td>\n",
       "      <td>-103.0</td>\n",
       "      <td>47.0</td>\n",
       "    </tr>\n",
       "    <tr>\n",
       "      <th>1960-09-01</th>\n",
       "      <td>508.0</td>\n",
       "      <td>-98.0</td>\n",
       "      <td>-82.0</td>\n",
       "      <td>45.0</td>\n",
       "    </tr>\n",
       "    <tr>\n",
       "      <th>1960-10-01</th>\n",
       "      <td>461.0</td>\n",
       "      <td>-47.0</td>\n",
       "      <td>51.0</td>\n",
       "      <td>54.0</td>\n",
       "    </tr>\n",
       "    <tr>\n",
       "      <th>1960-11-01</th>\n",
       "      <td>390.0</td>\n",
       "      <td>-71.0</td>\n",
       "      <td>-24.0</td>\n",
       "      <td>28.0</td>\n",
       "    </tr>\n",
       "    <tr>\n",
       "      <th>1960-12-01</th>\n",
       "      <td>432.0</td>\n",
       "      <td>42.0</td>\n",
       "      <td>113.0</td>\n",
       "      <td>27.0</td>\n",
       "    </tr>\n",
       "  </tbody>\n",
       "</table>\n",
       "</div>"
      ],
      "text/plain": [
       "            Thousands of Passengers  Passenger difference  Second difference  \\\n",
       "Month                                                                          \n",
       "1956-01-01                    284.0                   6.0              -35.0   \n",
       "1956-02-01                    277.0                  -7.0              -13.0   \n",
       "1956-03-01                    317.0                  40.0               47.0   \n",
       "1956-04-01                    313.0                  -4.0              -44.0   \n",
       "1956-05-01                    318.0                   5.0                9.0   \n",
       "1956-06-01                    374.0                  56.0               51.0   \n",
       "1956-07-01                    413.0                  39.0              -17.0   \n",
       "1956-08-01                    405.0                  -8.0              -47.0   \n",
       "1956-09-01                    355.0                 -50.0              -42.0   \n",
       "1956-10-01                    306.0                 -49.0                1.0   \n",
       "1956-11-01                    271.0                 -35.0               14.0   \n",
       "1956-12-01                    306.0                  35.0               70.0   \n",
       "1957-01-01                    315.0                   9.0              -26.0   \n",
       "1957-02-01                    301.0                 -14.0              -23.0   \n",
       "1957-03-01                    356.0                  55.0               69.0   \n",
       "1957-04-01                    348.0                  -8.0              -63.0   \n",
       "1957-05-01                    355.0                   7.0               15.0   \n",
       "1957-06-01                    422.0                  67.0               60.0   \n",
       "1957-07-01                    465.0                  43.0              -24.0   \n",
       "1957-08-01                    467.0                   2.0              -41.0   \n",
       "1957-09-01                    404.0                 -63.0              -65.0   \n",
       "1957-10-01                    347.0                 -57.0                6.0   \n",
       "1957-11-01                    305.0                 -42.0               15.0   \n",
       "1957-12-01                    336.0                  31.0               73.0   \n",
       "1958-01-01                    340.0                   4.0              -27.0   \n",
       "1958-02-01                    318.0                 -22.0              -26.0   \n",
       "1958-03-01                    362.0                  44.0               66.0   \n",
       "1958-04-01                    348.0                 -14.0              -58.0   \n",
       "1958-05-01                    363.0                  15.0               29.0   \n",
       "1958-06-01                    435.0                  72.0               57.0   \n",
       "1958-07-01                    491.0                  56.0              -16.0   \n",
       "1958-08-01                    505.0                  14.0              -42.0   \n",
       "1958-09-01                    404.0                -101.0             -115.0   \n",
       "1958-10-01                    359.0                 -45.0               56.0   \n",
       "1958-11-01                    310.0                 -49.0               -4.0   \n",
       "1958-12-01                    337.0                  27.0               76.0   \n",
       "1959-01-01                    360.0                  23.0               -4.0   \n",
       "1959-02-01                    342.0                 -18.0              -41.0   \n",
       "1959-03-01                    406.0                  64.0               82.0   \n",
       "1959-04-01                    396.0                 -10.0              -74.0   \n",
       "1959-05-01                    420.0                  24.0               34.0   \n",
       "1959-06-01                    472.0                  52.0               28.0   \n",
       "1959-07-01                    548.0                  76.0               24.0   \n",
       "1959-08-01                    559.0                  11.0              -65.0   \n",
       "1959-09-01                    463.0                 -96.0             -107.0   \n",
       "1959-10-01                    407.0                 -56.0               40.0   \n",
       "1959-11-01                    362.0                 -45.0               11.0   \n",
       "1959-12-01                    405.0                  43.0               88.0   \n",
       "1960-01-01                    417.0                  12.0              -31.0   \n",
       "1960-02-01                    391.0                 -26.0              -38.0   \n",
       "1960-03-01                    419.0                  28.0               54.0   \n",
       "1960-04-01                    461.0                  42.0               14.0   \n",
       "1960-05-01                    472.0                  11.0              -31.0   \n",
       "1960-06-01                    535.0                  63.0               52.0   \n",
       "1960-07-01                    622.0                  87.0               24.0   \n",
       "1960-08-01                    606.0                 -16.0             -103.0   \n",
       "1960-09-01                    508.0                 -98.0              -82.0   \n",
       "1960-10-01                    461.0                 -47.0               51.0   \n",
       "1960-11-01                    390.0                 -71.0              -24.0   \n",
       "1960-12-01                    432.0                  42.0              113.0   \n",
       "\n",
       "            Passenger 12 difference  \n",
       "Month                                \n",
       "1956-01-01                     42.0  \n",
       "1956-02-01                     44.0  \n",
       "1956-03-01                     50.0  \n",
       "1956-04-01                     44.0  \n",
       "1956-05-01                     48.0  \n",
       "1956-06-01                     59.0  \n",
       "1956-07-01                     49.0  \n",
       "1956-08-01                     58.0  \n",
       "1956-09-01                     43.0  \n",
       "1956-10-01                     32.0  \n",
       "1956-11-01                     34.0  \n",
       "1956-12-01                     28.0  \n",
       "1957-01-01                     31.0  \n",
       "1957-02-01                     24.0  \n",
       "1957-03-01                     39.0  \n",
       "1957-04-01                     35.0  \n",
       "1957-05-01                     37.0  \n",
       "1957-06-01                     48.0  \n",
       "1957-07-01                     52.0  \n",
       "1957-08-01                     62.0  \n",
       "1957-09-01                     49.0  \n",
       "1957-10-01                     41.0  \n",
       "1957-11-01                     34.0  \n",
       "1957-12-01                     30.0  \n",
       "1958-01-01                     25.0  \n",
       "1958-02-01                     17.0  \n",
       "1958-03-01                      6.0  \n",
       "1958-04-01                      0.0  \n",
       "1958-05-01                      8.0  \n",
       "1958-06-01                     13.0  \n",
       "1958-07-01                     26.0  \n",
       "1958-08-01                     38.0  \n",
       "1958-09-01                      0.0  \n",
       "1958-10-01                     12.0  \n",
       "1958-11-01                      5.0  \n",
       "1958-12-01                      1.0  \n",
       "1959-01-01                     20.0  \n",
       "1959-02-01                     24.0  \n",
       "1959-03-01                     44.0  \n",
       "1959-04-01                     48.0  \n",
       "1959-05-01                     57.0  \n",
       "1959-06-01                     37.0  \n",
       "1959-07-01                     57.0  \n",
       "1959-08-01                     54.0  \n",
       "1959-09-01                     59.0  \n",
       "1959-10-01                     48.0  \n",
       "1959-11-01                     52.0  \n",
       "1959-12-01                     68.0  \n",
       "1960-01-01                     57.0  \n",
       "1960-02-01                     49.0  \n",
       "1960-03-01                     13.0  \n",
       "1960-04-01                     65.0  \n",
       "1960-05-01                     52.0  \n",
       "1960-06-01                     63.0  \n",
       "1960-07-01                     74.0  \n",
       "1960-08-01                     47.0  \n",
       "1960-09-01                     45.0  \n",
       "1960-10-01                     54.0  \n",
       "1960-11-01                     28.0  \n",
       "1960-12-01                     27.0  "
      ]
     },
     "execution_count": 149,
     "metadata": {},
     "output_type": "execute_result"
    }
   ],
   "source": [
    "test_data"
   ]
  },
  {
   "cell_type": "code",
   "execution_count": 150,
   "id": "ba1aa9f1",
   "metadata": {},
   "outputs": [],
   "source": [
    "from statsmodels.tsa.arima.model import ARIMA\n"
   ]
  },
  {
   "cell_type": "code",
   "execution_count": 207,
   "id": "15ee4a2d",
   "metadata": {},
   "outputs": [
    {
     "name": "stderr",
     "output_type": "stream",
     "text": [
      "C:\\Users\\shalu\\anaconda3\\Lib\\site-packages\\statsmodels\\tsa\\base\\tsa_model.py:473: ValueWarning: No frequency information was provided, so inferred frequency MS will be used.\n",
      "  self._init_dates(dates, freq)\n",
      "C:\\Users\\shalu\\anaconda3\\Lib\\site-packages\\statsmodels\\tsa\\base\\tsa_model.py:473: ValueWarning: No frequency information was provided, so inferred frequency MS will be used.\n",
      "  self._init_dates(dates, freq)\n",
      "C:\\Users\\shalu\\anaconda3\\Lib\\site-packages\\statsmodels\\tsa\\base\\tsa_model.py:473: ValueWarning: No frequency information was provided, so inferred frequency MS will be used.\n",
      "  self._init_dates(dates, freq)\n"
     ]
    }
   ],
   "source": [
    "model = ARIMA(train_data['Thousands of Passengers'], order=(14,2,0))"
   ]
  },
  {
   "cell_type": "code",
   "execution_count": 208,
   "id": "9c9ca8ae",
   "metadata": {},
   "outputs": [
    {
     "name": "stderr",
     "output_type": "stream",
     "text": [
      "C:\\Users\\shalu\\anaconda3\\Lib\\site-packages\\statsmodels\\tsa\\statespace\\sarimax.py:966: UserWarning: Non-stationary starting autoregressive parameters found. Using zeros as starting parameters.\n",
      "  warn('Non-stationary starting autoregressive parameters'\n",
      "C:\\Users\\shalu\\anaconda3\\Lib\\site-packages\\statsmodels\\base\\model.py:607: ConvergenceWarning: Maximum Likelihood optimization failed to converge. Check mle_retvals\n",
      "  warnings.warn(\"Maximum Likelihood optimization failed to \"\n"
     ]
    }
   ],
   "source": [
    "model_fit=model.fit()"
   ]
  },
  {
   "cell_type": "code",
   "execution_count": 209,
   "id": "2db6ac5d",
   "metadata": {},
   "outputs": [
    {
     "data": {
      "text/html": [
       "<table class=\"simpletable\">\n",
       "<caption>SARIMAX Results</caption>\n",
       "<tr>\n",
       "  <th>Dep. Variable:</th>   <td>Thousands of Passengers</td> <th>  No. Observations:  </th>    <td>84</td>   \n",
       "</tr>\n",
       "<tr>\n",
       "  <th>Model:</th>               <td>ARIMA(14, 2, 0)</td>     <th>  Log Likelihood     </th> <td>-306.771</td>\n",
       "</tr>\n",
       "<tr>\n",
       "  <th>Date:</th>               <td>Mon, 09 Dec 2024</td>     <th>  AIC                </th>  <td>643.542</td>\n",
       "</tr>\n",
       "<tr>\n",
       "  <th>Time:</th>                   <td>11:34:26</td>         <th>  BIC                </th>  <td>679.643</td>\n",
       "</tr>\n",
       "<tr>\n",
       "  <th>Sample:</th>                <td>01-01-1949</td>        <th>  HQIC               </th>  <td>658.036</td>\n",
       "</tr>\n",
       "<tr>\n",
       "  <th></th>                      <td>- 12-01-1955</td>       <th>                     </th>     <td> </td>   \n",
       "</tr>\n",
       "<tr>\n",
       "  <th>Covariance Type:</th>           <td>opg</td>           <th>                     </th>     <td> </td>   \n",
       "</tr>\n",
       "</table>\n",
       "<table class=\"simpletable\">\n",
       "<tr>\n",
       "     <td></td>       <th>coef</th>     <th>std err</th>      <th>z</th>      <th>P>|z|</th>  <th>[0.025</th>    <th>0.975]</th>  \n",
       "</tr>\n",
       "<tr>\n",
       "  <th>ar.L1</th>  <td>   -1.1316</td> <td>    0.154</td> <td>   -7.366</td> <td> 0.000</td> <td>   -1.433</td> <td>   -0.831</td>\n",
       "</tr>\n",
       "<tr>\n",
       "  <th>ar.L2</th>  <td>   -1.1814</td> <td>    0.218</td> <td>   -5.422</td> <td> 0.000</td> <td>   -1.608</td> <td>   -0.754</td>\n",
       "</tr>\n",
       "<tr>\n",
       "  <th>ar.L3</th>  <td>   -1.4376</td> <td>    0.278</td> <td>   -5.167</td> <td> 0.000</td> <td>   -1.983</td> <td>   -0.892</td>\n",
       "</tr>\n",
       "<tr>\n",
       "  <th>ar.L4</th>  <td>   -1.4868</td> <td>    0.276</td> <td>   -5.392</td> <td> 0.000</td> <td>   -2.027</td> <td>   -0.946</td>\n",
       "</tr>\n",
       "<tr>\n",
       "  <th>ar.L5</th>  <td>   -1.4213</td> <td>    0.273</td> <td>   -5.209</td> <td> 0.000</td> <td>   -1.956</td> <td>   -0.887</td>\n",
       "</tr>\n",
       "<tr>\n",
       "  <th>ar.L6</th>  <td>   -1.4438</td> <td>    0.284</td> <td>   -5.079</td> <td> 0.000</td> <td>   -2.001</td> <td>   -0.887</td>\n",
       "</tr>\n",
       "<tr>\n",
       "  <th>ar.L7</th>  <td>   -1.3801</td> <td>    0.286</td> <td>   -4.828</td> <td> 0.000</td> <td>   -1.940</td> <td>   -0.820</td>\n",
       "</tr>\n",
       "<tr>\n",
       "  <th>ar.L8</th>  <td>   -1.5010</td> <td>    0.299</td> <td>   -5.020</td> <td> 0.000</td> <td>   -2.087</td> <td>   -0.915</td>\n",
       "</tr>\n",
       "<tr>\n",
       "  <th>ar.L9</th>  <td>   -1.3996</td> <td>    0.312</td> <td>   -4.484</td> <td> 0.000</td> <td>   -2.011</td> <td>   -0.788</td>\n",
       "</tr>\n",
       "<tr>\n",
       "  <th>ar.L10</th> <td>   -1.4522</td> <td>    0.312</td> <td>   -4.658</td> <td> 0.000</td> <td>   -2.063</td> <td>   -0.841</td>\n",
       "</tr>\n",
       "<tr>\n",
       "  <th>ar.L11</th> <td>   -1.3485</td> <td>    0.326</td> <td>   -4.136</td> <td> 0.000</td> <td>   -1.987</td> <td>   -0.709</td>\n",
       "</tr>\n",
       "<tr>\n",
       "  <th>ar.L12</th> <td>   -0.5485</td> <td>    0.310</td> <td>   -1.768</td> <td> 0.077</td> <td>   -1.156</td> <td>    0.059</td>\n",
       "</tr>\n",
       "<tr>\n",
       "  <th>ar.L13</th> <td>   -0.2822</td> <td>    0.286</td> <td>   -0.987</td> <td> 0.324</td> <td>   -0.843</td> <td>    0.278</td>\n",
       "</tr>\n",
       "<tr>\n",
       "  <th>ar.L14</th> <td>   -0.3243</td> <td>    0.168</td> <td>   -1.926</td> <td> 0.054</td> <td>   -0.654</td> <td>    0.006</td>\n",
       "</tr>\n",
       "<tr>\n",
       "  <th>sigma2</th> <td>   92.6831</td> <td>   23.482</td> <td>    3.947</td> <td> 0.000</td> <td>   46.659</td> <td>  138.707</td>\n",
       "</tr>\n",
       "</table>\n",
       "<table class=\"simpletable\">\n",
       "<tr>\n",
       "  <th>Ljung-Box (L1) (Q):</th>     <td>0.01</td> <th>  Jarque-Bera (JB):  </th> <td>2.62</td>\n",
       "</tr>\n",
       "<tr>\n",
       "  <th>Prob(Q):</th>                <td>0.94</td> <th>  Prob(JB):          </th> <td>0.27</td>\n",
       "</tr>\n",
       "<tr>\n",
       "  <th>Heteroskedasticity (H):</th> <td>2.14</td> <th>  Skew:              </th> <td>0.44</td>\n",
       "</tr>\n",
       "<tr>\n",
       "  <th>Prob(H) (two-sided):</th>    <td>0.05</td> <th>  Kurtosis:          </th> <td>3.02</td>\n",
       "</tr>\n",
       "</table><br/><br/>Warnings:<br/>[1] Covariance matrix calculated using the outer product of gradients (complex-step)."
      ],
      "text/latex": [
       "\\begin{center}\n",
       "\\begin{tabular}{lclc}\n",
       "\\toprule\n",
       "\\textbf{Dep. Variable:}          & Thousands of Passengers & \\textbf{  No. Observations:  } &     84      \\\\\n",
       "\\textbf{Model:}                  &     ARIMA(14, 2, 0)     & \\textbf{  Log Likelihood     } &  -306.771   \\\\\n",
       "\\textbf{Date:}                   &     Mon, 09 Dec 2024    & \\textbf{  AIC                } &  643.542    \\\\\n",
       "\\textbf{Time:}                   &         11:34:26        & \\textbf{  BIC                } &  679.643    \\\\\n",
       "\\textbf{Sample:}                 &        01-01-1949       & \\textbf{  HQIC               } &  658.036    \\\\\n",
       "\\textbf{}                        &       - 12-01-1955      & \\textbf{                     } &             \\\\\n",
       "\\textbf{Covariance Type:}        &           opg           & \\textbf{                     } &             \\\\\n",
       "\\bottomrule\n",
       "\\end{tabular}\n",
       "\\begin{tabular}{lcccccc}\n",
       "                & \\textbf{coef} & \\textbf{std err} & \\textbf{z} & \\textbf{P$> |$z$|$} & \\textbf{[0.025} & \\textbf{0.975]}  \\\\\n",
       "\\midrule\n",
       "\\textbf{ar.L1}  &      -1.1316  &        0.154     &    -7.366  &         0.000        &       -1.433    &       -0.831     \\\\\n",
       "\\textbf{ar.L2}  &      -1.1814  &        0.218     &    -5.422  &         0.000        &       -1.608    &       -0.754     \\\\\n",
       "\\textbf{ar.L3}  &      -1.4376  &        0.278     &    -5.167  &         0.000        &       -1.983    &       -0.892     \\\\\n",
       "\\textbf{ar.L4}  &      -1.4868  &        0.276     &    -5.392  &         0.000        &       -2.027    &       -0.946     \\\\\n",
       "\\textbf{ar.L5}  &      -1.4213  &        0.273     &    -5.209  &         0.000        &       -1.956    &       -0.887     \\\\\n",
       "\\textbf{ar.L6}  &      -1.4438  &        0.284     &    -5.079  &         0.000        &       -2.001    &       -0.887     \\\\\n",
       "\\textbf{ar.L7}  &      -1.3801  &        0.286     &    -4.828  &         0.000        &       -1.940    &       -0.820     \\\\\n",
       "\\textbf{ar.L8}  &      -1.5010  &        0.299     &    -5.020  &         0.000        &       -2.087    &       -0.915     \\\\\n",
       "\\textbf{ar.L9}  &      -1.3996  &        0.312     &    -4.484  &         0.000        &       -2.011    &       -0.788     \\\\\n",
       "\\textbf{ar.L10} &      -1.4522  &        0.312     &    -4.658  &         0.000        &       -2.063    &       -0.841     \\\\\n",
       "\\textbf{ar.L11} &      -1.3485  &        0.326     &    -4.136  &         0.000        &       -1.987    &       -0.709     \\\\\n",
       "\\textbf{ar.L12} &      -0.5485  &        0.310     &    -1.768  &         0.077        &       -1.156    &        0.059     \\\\\n",
       "\\textbf{ar.L13} &      -0.2822  &        0.286     &    -0.987  &         0.324        &       -0.843    &        0.278     \\\\\n",
       "\\textbf{ar.L14} &      -0.3243  &        0.168     &    -1.926  &         0.054        &       -0.654    &        0.006     \\\\\n",
       "\\textbf{sigma2} &      92.6831  &       23.482     &     3.947  &         0.000        &       46.659    &      138.707     \\\\\n",
       "\\bottomrule\n",
       "\\end{tabular}\n",
       "\\begin{tabular}{lclc}\n",
       "\\textbf{Ljung-Box (L1) (Q):}     & 0.01 & \\textbf{  Jarque-Bera (JB):  } & 2.62  \\\\\n",
       "\\textbf{Prob(Q):}                & 0.94 & \\textbf{  Prob(JB):          } & 0.27  \\\\\n",
       "\\textbf{Heteroskedasticity (H):} & 2.14 & \\textbf{  Skew:              } & 0.44  \\\\\n",
       "\\textbf{Prob(H) (two-sided):}    & 0.05 & \\textbf{  Kurtosis:          } & 3.02  \\\\\n",
       "\\bottomrule\n",
       "\\end{tabular}\n",
       "%\\caption{SARIMAX Results}\n",
       "\\end{center}\n",
       "\n",
       "Warnings: \\newline\n",
       " [1] Covariance matrix calculated using the outer product of gradients (complex-step)."
      ],
      "text/plain": [
       "<class 'statsmodels.iolib.summary.Summary'>\n",
       "\"\"\"\n",
       "                                  SARIMAX Results                                  \n",
       "===================================================================================\n",
       "Dep. Variable:     Thousands of Passengers   No. Observations:                   84\n",
       "Model:                     ARIMA(14, 2, 0)   Log Likelihood                -306.771\n",
       "Date:                     Mon, 09 Dec 2024   AIC                            643.542\n",
       "Time:                             11:34:26   BIC                            679.643\n",
       "Sample:                         01-01-1949   HQIC                           658.036\n",
       "                              - 12-01-1955                                         \n",
       "Covariance Type:                       opg                                         \n",
       "==============================================================================\n",
       "                 coef    std err          z      P>|z|      [0.025      0.975]\n",
       "------------------------------------------------------------------------------\n",
       "ar.L1         -1.1316      0.154     -7.366      0.000      -1.433      -0.831\n",
       "ar.L2         -1.1814      0.218     -5.422      0.000      -1.608      -0.754\n",
       "ar.L3         -1.4376      0.278     -5.167      0.000      -1.983      -0.892\n",
       "ar.L4         -1.4868      0.276     -5.392      0.000      -2.027      -0.946\n",
       "ar.L5         -1.4213      0.273     -5.209      0.000      -1.956      -0.887\n",
       "ar.L6         -1.4438      0.284     -5.079      0.000      -2.001      -0.887\n",
       "ar.L7         -1.3801      0.286     -4.828      0.000      -1.940      -0.820\n",
       "ar.L8         -1.5010      0.299     -5.020      0.000      -2.087      -0.915\n",
       "ar.L9         -1.3996      0.312     -4.484      0.000      -2.011      -0.788\n",
       "ar.L10        -1.4522      0.312     -4.658      0.000      -2.063      -0.841\n",
       "ar.L11        -1.3485      0.326     -4.136      0.000      -1.987      -0.709\n",
       "ar.L12        -0.5485      0.310     -1.768      0.077      -1.156       0.059\n",
       "ar.L13        -0.2822      0.286     -0.987      0.324      -0.843       0.278\n",
       "ar.L14        -0.3243      0.168     -1.926      0.054      -0.654       0.006\n",
       "sigma2        92.6831     23.482      3.947      0.000      46.659     138.707\n",
       "===================================================================================\n",
       "Ljung-Box (L1) (Q):                   0.01   Jarque-Bera (JB):                 2.62\n",
       "Prob(Q):                              0.94   Prob(JB):                         0.27\n",
       "Heteroskedasticity (H):               2.14   Skew:                             0.44\n",
       "Prob(H) (two-sided):                  0.05   Kurtosis:                         3.02\n",
       "===================================================================================\n",
       "\n",
       "Warnings:\n",
       "[1] Covariance matrix calculated using the outer product of gradients (complex-step).\n",
       "\"\"\""
      ]
     },
     "execution_count": 209,
     "metadata": {},
     "output_type": "execute_result"
    }
   ],
   "source": [
    "model_fit.summary()"
   ]
  },
  {
   "cell_type": "code",
   "execution_count": 210,
   "id": "5da5085f",
   "metadata": {},
   "outputs": [],
   "source": [
    "pred=model_fit.predict(start=pred_start_date,end =pred_end_date)"
   ]
  },
  {
   "cell_type": "code",
   "execution_count": 211,
   "id": "15f406e9",
   "metadata": {},
   "outputs": [
    {
     "name": "stdout",
     "output_type": "stream",
     "text": [
      "1956-01-01 00:00:00\n",
      "1960-12-01 00:00:00\n"
     ]
    }
   ],
   "source": [
    "pred_start_date = test_data.index[0]\n",
    "pred_end_date=test_data.index[-1]\n",
    "print(pred_start_date)\n",
    "print(pred_end_date)\n"
   ]
  },
  {
   "cell_type": "code",
   "execution_count": 212,
   "id": "ab062d53",
   "metadata": {},
   "outputs": [],
   "source": [
    "residuals=test_data['Thousands of Passengers']-pred"
   ]
  },
  {
   "cell_type": "code",
   "execution_count": 213,
   "id": "f76c343b",
   "metadata": {},
   "outputs": [
    {
     "data": {
      "text/plain": [
       "Month\n",
       "1956-01-01     -8.601402\n",
       "1956-02-01     -9.024012\n",
       "1956-03-01     10.818430\n",
       "1956-04-01     -1.309911\n",
       "1956-05-01      2.119158\n",
       "1956-06-01     11.672381\n",
       "1956-07-01      5.603858\n",
       "1956-08-01     16.708567\n",
       "1956-09-01     -1.651731\n",
       "1956-10-01    -16.306160\n",
       "1956-11-01    -20.221707\n",
       "1956-12-01    -18.187858\n",
       "1957-01-01    -28.169781\n",
       "1957-02-01    -30.029123\n",
       "1957-03-01      6.906725\n",
       "1957-04-01    -11.038473\n",
       "1957-05-01     -9.450952\n",
       "1957-06-01     13.878176\n",
       "1957-07-01     14.508242\n",
       "1957-08-01     36.804978\n",
       "1957-09-01      3.334229\n",
       "1957-10-01    -24.791426\n",
       "1957-11-01    -38.674356\n",
       "1957-12-01    -36.025926\n",
       "1958-01-01    -51.322039\n",
       "1958-02-01    -59.717955\n",
       "1958-03-01    -29.315447\n",
       "1958-04-01    -57.238619\n",
       "1958-05-01    -49.007649\n",
       "1958-06-01    -19.214857\n",
       "1958-07-01     -2.005266\n",
       "1958-08-01     32.050333\n",
       "1958-09-01    -40.632256\n",
       "1958-10-01    -62.163009\n",
       "1958-11-01    -85.767591\n",
       "1958-12-01    -82.783527\n",
       "1959-01-01    -79.068157\n",
       "1959-02-01    -82.275164\n",
       "1959-03-01    -28.501380\n",
       "1959-04-01    -55.259039\n",
       "1959-05-01    -39.899224\n",
       "1959-06-01    -27.572147\n",
       "1959-07-01     12.150659\n",
       "1959-08-01     43.180425\n",
       "1959-09-01    -26.055269\n",
       "1959-10-01    -63.121213\n",
       "1959-11-01    -85.622910\n",
       "1959-12-01    -62.443488\n",
       "1960-01-01    -69.384509\n",
       "1960-02-01    -79.929131\n",
       "1960-03-01    -59.278743\n",
       "1960-04-01    -36.414259\n",
       "1960-05-01    -35.712286\n",
       "1960-06-01     -9.680875\n",
       "1960-07-01     43.352908\n",
       "1960-08-01     46.892895\n",
       "1960-09-01    -25.649922\n",
       "1960-10-01    -57.908077\n",
       "1960-11-01   -109.050194\n",
       "1960-12-01    -83.119336\n",
       "dtype: float64"
      ]
     },
     "execution_count": 213,
     "metadata": {},
     "output_type": "execute_result"
    }
   ],
   "source": [
    "residuals"
   ]
  },
  {
   "cell_type": "code",
   "execution_count": null,
   "id": "dcd5d01b",
   "metadata": {},
   "outputs": [],
   "source": []
  },
  {
   "cell_type": "code",
   "execution_count": 214,
   "id": "79269ece",
   "metadata": {},
   "outputs": [
    {
     "data": {
      "text/plain": [
       "<Axes: ylabel='Density'>"
      ]
     },
     "execution_count": 214,
     "metadata": {},
     "output_type": "execute_result"
    },
    {
     "data": {
      "image/png": "[encoded data removed]",
      "text/plain": [
       "<Figure size 640x480 with 1 Axes>"
      ]
     },
     "metadata": {},
     "output_type": "display_data"
    }
   ],
   "source": [
    "model_fit.resid.plot(kind=\"kde\")"
   ]
  },
  {
   "cell_type": "code",
   "execution_count": 215,
   "id": "f7ee7f66",
   "metadata": {},
   "outputs": [
    {
     "name": "stderr",
     "output_type": "stream",
     "text": [
      "C:\\Users\\shalu\\AppData\\Local\\Temp\\ipykernel_21828\\857688212.py:1: SettingWithCopyWarning: \n",
      "A value is trying to be set on a copy of a slice from a DataFrame.\n",
      "Try using .loc[row_indexer,col_indexer] = value instead\n",
      "\n",
      "See the caveats in the documentation: https://pandas.pydata.org/pandas-docs/stable/user_guide/indexing.html#returning-a-view-versus-a-copy\n",
      "  test_data['Predicted Arima']=pred\n"
     ]
    }
   ],
   "source": [
    "test_data['Predicted Arima']=pred"
   ]
  },
  {
   "cell_type": "code",
   "execution_count": 216,
   "id": "e2b7f64f",
   "metadata": {},
   "outputs": [
    {
     "data": {
      "text/plain": [
       "<Axes: xlabel='Month'>"
      ]
     },
     "execution_count": 216,
     "metadata": {},
     "output_type": "execute_result"
    },
    {
     "data": {
      "image/png": "[encoded data removed]",
      "text/plain": [
       "<Figure size 640x480 with 1 Axes>"
      ]
     },
     "metadata": {},
     "output_type": "display_data"
    }
   ],
   "source": [
    "test_data[['Thousands of Passengers','Predicted Arima']].plot()"
   ]
  },
  {
   "cell_type": "code",
   "execution_count": 219,
   "id": "8378163a",
   "metadata": {},
   "outputs": [
    {
     "data": {
      "image/png": "[encoded data removed]",
      "text/plain": [
       "<Figure size 640x480 with 1 Axes>"
      ]
     },
     "metadata": {},
     "output_type": "display_data"
    },
    {
     "data": {
      "image/png": "[encoded data removed]",
      "text/plain": [
       "<Figure size 640x480 with 1 Axes>"
      ]
     },
     "metadata": {},
     "output_type": "display_data"
    }
   ],
   "source": [
    "pacf=plot_pacf(df['Passenger 12 difference'].dropna())\n",
    "acf=plot_acf(df['Passenger 12 difference'].dropna())"
   ]
  },
  {
   "cell_type": "code",
   "execution_count": 220,
   "id": "8158301f",
   "metadata": {},
   "outputs": [],
   "source": [
    "from statsmodels.tsa.statespace.sarimax import SARIMAX"
   ]
  },
  {
   "cell_type": "code",
   "execution_count": 221,
   "id": "003305a2",
   "metadata": {},
   "outputs": [
    {
     "name": "stderr",
     "output_type": "stream",
     "text": [
      "C:\\Users\\shalu\\anaconda3\\Lib\\site-packages\\statsmodels\\tsa\\base\\tsa_model.py:473: ValueWarning: No frequency information was provided, so inferred frequency MS will be used.\n",
      "  self._init_dates(dates, freq)\n",
      "C:\\Users\\shalu\\anaconda3\\Lib\\site-packages\\statsmodels\\tsa\\base\\tsa_model.py:473: ValueWarning: No frequency information was provided, so inferred frequency MS will be used.\n",
      "  self._init_dates(dates, freq)\n"
     ]
    }
   ],
   "source": [
    "model_SARIMA=SARIMAX(train_data['Thousands of Passengers'],order=(3,0,5),seasonal_order=(0,1,0,12))"
   ]
  },
  {
   "cell_type": "code",
   "execution_count": 222,
   "id": "85c195ab",
   "metadata": {},
   "outputs": [
    {
     "name": "stderr",
     "output_type": "stream",
     "text": [
      "C:\\Users\\shalu\\anaconda3\\Lib\\site-packages\\statsmodels\\base\\model.py:607: ConvergenceWarning: Maximum Likelihood optimization failed to converge. Check mle_retvals\n",
      "  warnings.warn(\"Maximum Likelihood optimization failed to \"\n"
     ]
    }
   ],
   "source": [
    "model_SARIMA_fit=model_SARIMA.fit()"
   ]
  },
  {
   "cell_type": "code",
   "execution_count": 223,
   "id": "90d76fe7",
   "metadata": {},
   "outputs": [
    {
     "data": {
      "text/html": [
       "<table class=\"simpletable\">\n",
       "<caption>SARIMAX Results</caption>\n",
       "<tr>\n",
       "  <th>Dep. Variable:</th>       <td>Thousands of Passengers</td>     <th>  No. Observations:  </th>    <td>84</td>   \n",
       "</tr>\n",
       "<tr>\n",
       "  <th>Model:</th>           <td>SARIMAX(3, 0, 5)x(0, 1, [], 12)</td> <th>  Log Likelihood     </th> <td>-265.241</td>\n",
       "</tr>\n",
       "<tr>\n",
       "  <th>Date:</th>                   <td>Mon, 09 Dec 2024</td>         <th>  AIC                </th>  <td>548.481</td>\n",
       "</tr>\n",
       "<tr>\n",
       "  <th>Time:</th>                       <td>11:39:39</td>             <th>  BIC                </th>  <td>568.971</td>\n",
       "</tr>\n",
       "<tr>\n",
       "  <th>Sample:</th>                    <td>01-01-1949</td>            <th>  HQIC               </th>  <td>556.638</td>\n",
       "</tr>\n",
       "<tr>\n",
       "  <th></th>                          <td>- 12-01-1955</td>           <th>                     </th>     <td> </td>   \n",
       "</tr>\n",
       "<tr>\n",
       "  <th>Covariance Type:</th>               <td>opg</td>               <th>                     </th>     <td> </td>   \n",
       "</tr>\n",
       "</table>\n",
       "<table class=\"simpletable\">\n",
       "<tr>\n",
       "     <td></td>       <th>coef</th>     <th>std err</th>      <th>z</th>      <th>P>|z|</th>  <th>[0.025</th>    <th>0.975]</th>  \n",
       "</tr>\n",
       "<tr>\n",
       "  <th>ar.L1</th>  <td>    0.5995</td> <td>    0.939</td> <td>    0.638</td> <td> 0.523</td> <td>   -1.241</td> <td>    2.440</td>\n",
       "</tr>\n",
       "<tr>\n",
       "  <th>ar.L2</th>  <td>    0.8314</td> <td>    0.232</td> <td>    3.577</td> <td> 0.000</td> <td>    0.376</td> <td>    1.287</td>\n",
       "</tr>\n",
       "<tr>\n",
       "  <th>ar.L3</th>  <td>   -0.4539</td> <td>    0.896</td> <td>   -0.507</td> <td> 0.612</td> <td>   -2.209</td> <td>    1.301</td>\n",
       "</tr>\n",
       "<tr>\n",
       "  <th>ma.L1</th>  <td>    0.1825</td> <td>    1.171</td> <td>    0.156</td> <td> 0.876</td> <td>   -2.112</td> <td>    2.477</td>\n",
       "</tr>\n",
       "<tr>\n",
       "  <th>ma.L2</th>  <td>   -0.5355</td> <td>    1.269</td> <td>   -0.422</td> <td> 0.673</td> <td>   -3.023</td> <td>    1.952</td>\n",
       "</tr>\n",
       "<tr>\n",
       "  <th>ma.L3</th>  <td>   -0.0986</td> <td>    0.386</td> <td>   -0.255</td> <td> 0.799</td> <td>   -0.856</td> <td>    0.659</td>\n",
       "</tr>\n",
       "<tr>\n",
       "  <th>ma.L4</th>  <td>   -0.1270</td> <td>    0.340</td> <td>   -0.374</td> <td> 0.708</td> <td>   -0.793</td> <td>    0.539</td>\n",
       "</tr>\n",
       "<tr>\n",
       "  <th>ma.L5</th>  <td>    0.2471</td> <td>    0.358</td> <td>    0.690</td> <td> 0.490</td> <td>   -0.455</td> <td>    0.949</td>\n",
       "</tr>\n",
       "<tr>\n",
       "  <th>sigma2</th> <td>   87.7135</td> <td>   81.766</td> <td>    1.073</td> <td> 0.283</td> <td>  -72.545</td> <td>  247.972</td>\n",
       "</tr>\n",
       "</table>\n",
       "<table class=\"simpletable\">\n",
       "<tr>\n",
       "  <th>Ljung-Box (L1) (Q):</th>     <td>0.02</td> <th>  Jarque-Bera (JB):  </th> <td>2.68</td>\n",
       "</tr>\n",
       "<tr>\n",
       "  <th>Prob(Q):</th>                <td>0.88</td> <th>  Prob(JB):          </th> <td>0.26</td>\n",
       "</tr>\n",
       "<tr>\n",
       "  <th>Heteroskedasticity (H):</th> <td>2.05</td> <th>  Skew:              </th> <td>0.46</td>\n",
       "</tr>\n",
       "<tr>\n",
       "  <th>Prob(H) (two-sided):</th>    <td>0.09</td> <th>  Kurtosis:          </th> <td>2.77</td>\n",
       "</tr>\n",
       "</table><br/><br/>Warnings:<br/>[1] Covariance matrix calculated using the outer product of gradients (complex-step)."
      ],
      "text/latex": [
       "\\begin{center}\n",
       "\\begin{tabular}{lclc}\n",
       "\\toprule\n",
       "\\textbf{Dep. Variable:}          &     Thousands of Passengers     & \\textbf{  No. Observations:  } &     84      \\\\\n",
       "\\textbf{Model:}                  & SARIMAX(3, 0, 5)x(0, 1, [], 12) & \\textbf{  Log Likelihood     } &  -265.241   \\\\\n",
       "\\textbf{Date:}                   &         Mon, 09 Dec 2024        & \\textbf{  AIC                } &  548.481    \\\\\n",
       "\\textbf{Time:}                   &             11:39:39            & \\textbf{  BIC                } &  568.971    \\\\\n",
       "\\textbf{Sample:}                 &            01-01-1949           & \\textbf{  HQIC               } &  556.638    \\\\\n",
       "\\textbf{}                        &           - 12-01-1955          & \\textbf{                     } &             \\\\\n",
       "\\textbf{Covariance Type:}        &               opg               & \\textbf{                     } &             \\\\\n",
       "\\bottomrule\n",
       "\\end{tabular}\n",
       "\\begin{tabular}{lcccccc}\n",
       "                & \\textbf{coef} & \\textbf{std err} & \\textbf{z} & \\textbf{P$> |$z$|$} & \\textbf{[0.025} & \\textbf{0.975]}  \\\\\n",
       "\\midrule\n",
       "\\textbf{ar.L1}  &       0.5995  &        0.939     &     0.638  &         0.523        &       -1.241    &        2.440     \\\\\n",
       "\\textbf{ar.L2}  &       0.8314  &        0.232     &     3.577  &         0.000        &        0.376    &        1.287     \\\\\n",
       "\\textbf{ar.L3}  &      -0.4539  &        0.896     &    -0.507  &         0.612        &       -2.209    &        1.301     \\\\\n",
       "\\textbf{ma.L1}  &       0.1825  &        1.171     &     0.156  &         0.876        &       -2.112    &        2.477     \\\\\n",
       "\\textbf{ma.L2}  &      -0.5355  &        1.269     &    -0.422  &         0.673        &       -3.023    &        1.952     \\\\\n",
       "\\textbf{ma.L3}  &      -0.0986  &        0.386     &    -0.255  &         0.799        &       -0.856    &        0.659     \\\\\n",
       "\\textbf{ma.L4}  &      -0.1270  &        0.340     &    -0.374  &         0.708        &       -0.793    &        0.539     \\\\\n",
       "\\textbf{ma.L5}  &       0.2471  &        0.358     &     0.690  &         0.490        &       -0.455    &        0.949     \\\\\n",
       "\\textbf{sigma2} &      87.7135  &       81.766     &     1.073  &         0.283        &      -72.545    &      247.972     \\\\\n",
       "\\bottomrule\n",
       "\\end{tabular}\n",
       "\\begin{tabular}{lclc}\n",
       "\\textbf{Ljung-Box (L1) (Q):}     & 0.02 & \\textbf{  Jarque-Bera (JB):  } & 2.68  \\\\\n",
       "\\textbf{Prob(Q):}                & 0.88 & \\textbf{  Prob(JB):          } & 0.26  \\\\\n",
       "\\textbf{Heteroskedasticity (H):} & 2.05 & \\textbf{  Skew:              } & 0.46  \\\\\n",
       "\\textbf{Prob(H) (two-sided):}    & 0.09 & \\textbf{  Kurtosis:          } & 2.77  \\\\\n",
       "\\bottomrule\n",
       "\\end{tabular}\n",
       "%\\caption{SARIMAX Results}\n",
       "\\end{center}\n",
       "\n",
       "Warnings: \\newline\n",
       " [1] Covariance matrix calculated using the outer product of gradients (complex-step)."
      ],
      "text/plain": [
       "<class 'statsmodels.iolib.summary.Summary'>\n",
       "\"\"\"\n",
       "                                      SARIMAX Results                                      \n",
       "===========================================================================================\n",
       "Dep. Variable:             Thousands of Passengers   No. Observations:                   84\n",
       "Model:             SARIMAX(3, 0, 5)x(0, 1, [], 12)   Log Likelihood                -265.241\n",
       "Date:                             Mon, 09 Dec 2024   AIC                            548.481\n",
       "Time:                                     11:39:39   BIC                            568.971\n",
       "Sample:                                 01-01-1949   HQIC                           556.638\n",
       "                                      - 12-01-1955                                         \n",
       "Covariance Type:                               opg                                         \n",
       "==============================================================================\n",
       "                 coef    std err          z      P>|z|      [0.025      0.975]\n",
       "------------------------------------------------------------------------------\n",
       "ar.L1          0.5995      0.939      0.638      0.523      -1.241       2.440\n",
       "ar.L2          0.8314      0.232      3.577      0.000       0.376       1.287\n",
       "ar.L3         -0.4539      0.896     -0.507      0.612      -2.209       1.301\n",
       "ma.L1          0.1825      1.171      0.156      0.876      -2.112       2.477\n",
       "ma.L2         -0.5355      1.269     -0.422      0.673      -3.023       1.952\n",
       "ma.L3         -0.0986      0.386     -0.255      0.799      -0.856       0.659\n",
       "ma.L4         -0.1270      0.340     -0.374      0.708      -0.793       0.539\n",
       "ma.L5          0.2471      0.358      0.690      0.490      -0.455       0.949\n",
       "sigma2        87.7135     81.766      1.073      0.283     -72.545     247.972\n",
       "===================================================================================\n",
       "Ljung-Box (L1) (Q):                   0.02   Jarque-Bera (JB):                 2.68\n",
       "Prob(Q):                              0.88   Prob(JB):                         0.26\n",
       "Heteroskedasticity (H):               2.05   Skew:                             0.46\n",
       "Prob(H) (two-sided):                  0.09   Kurtosis:                         2.77\n",
       "===================================================================================\n",
       "\n",
       "Warnings:\n",
       "[1] Covariance matrix calculated using the outer product of gradients (complex-step).\n",
       "\"\"\""
      ]
     },
     "execution_count": 223,
     "metadata": {},
     "output_type": "execute_result"
    }
   ],
   "source": [
    "\n",
    "model_SARIMA_fit.summary()"
   ]
  },
  {
   "cell_type": "code",
   "execution_count": 224,
   "id": "97b84f80",
   "metadata": {},
   "outputs": [
    {
     "data": {
      "text/html": [
       "<div>\n",
       "<style scoped>\n",
       "    .dataframe tbody tr th:only-of-type {\n",
       "        vertical-align: middle;\n",
       "    }\n",
       "\n",
       "    .dataframe tbody tr th {\n",
       "        vertical-align: top;\n",
       "    }\n",
       "\n",
       "    .dataframe thead th {\n",
       "        text-align: right;\n",
       "    }\n",
       "</style>\n",
       "<table border=\"1\" class=\"dataframe\">\n",
       "  <thead>\n",
       "    <tr style=\"text-align: right;\">\n",
       "      <th></th>\n",
       "      <th>Thousands of Passengers</th>\n",
       "      <th>Passenger difference</th>\n",
       "      <th>Second difference</th>\n",
       "      <th>Passenger 12 difference</th>\n",
       "      <th>Predicted Arima</th>\n",
       "    </tr>\n",
       "    <tr>\n",
       "      <th>Month</th>\n",
       "      <th></th>\n",
       "      <th></th>\n",
       "      <th></th>\n",
       "      <th></th>\n",
       "      <th></th>\n",
       "    </tr>\n",
       "  </thead>\n",
       "  <tbody>\n",
       "    <tr>\n",
       "      <th>1960-08-01</th>\n",
       "      <td>606.0</td>\n",
       "      <td>-16.0</td>\n",
       "      <td>-103.0</td>\n",
       "      <td>47.0</td>\n",
       "      <td>559.107105</td>\n",
       "    </tr>\n",
       "    <tr>\n",
       "      <th>1960-09-01</th>\n",
       "      <td>508.0</td>\n",
       "      <td>-98.0</td>\n",
       "      <td>-82.0</td>\n",
       "      <td>45.0</td>\n",
       "      <td>533.649922</td>\n",
       "    </tr>\n",
       "    <tr>\n",
       "      <th>1960-10-01</th>\n",
       "      <td>461.0</td>\n",
       "      <td>-47.0</td>\n",
       "      <td>51.0</td>\n",
       "      <td>54.0</td>\n",
       "      <td>518.908077</td>\n",
       "    </tr>\n",
       "    <tr>\n",
       "      <th>1960-11-01</th>\n",
       "      <td>390.0</td>\n",
       "      <td>-71.0</td>\n",
       "      <td>-24.0</td>\n",
       "      <td>28.0</td>\n",
       "      <td>499.050194</td>\n",
       "    </tr>\n",
       "    <tr>\n",
       "      <th>1960-12-01</th>\n",
       "      <td>432.0</td>\n",
       "      <td>42.0</td>\n",
       "      <td>113.0</td>\n",
       "      <td>27.0</td>\n",
       "      <td>515.119336</td>\n",
       "    </tr>\n",
       "  </tbody>\n",
       "</table>\n",
       "</div>"
      ],
      "text/plain": [
       "            Thousands of Passengers  Passenger difference  Second difference  \\\n",
       "Month                                                                          \n",
       "1960-08-01                    606.0                 -16.0             -103.0   \n",
       "1960-09-01                    508.0                 -98.0              -82.0   \n",
       "1960-10-01                    461.0                 -47.0               51.0   \n",
       "1960-11-01                    390.0                 -71.0              -24.0   \n",
       "1960-12-01                    432.0                  42.0              113.0   \n",
       "\n",
       "            Passenger 12 difference  Predicted Arima  \n",
       "Month                                                 \n",
       "1960-08-01                     47.0       559.107105  \n",
       "1960-09-01                     45.0       533.649922  \n",
       "1960-10-01                     54.0       518.908077  \n",
       "1960-11-01                     28.0       499.050194  \n",
       "1960-12-01                     27.0       515.119336  "
      ]
     },
     "execution_count": 224,
     "metadata": {},
     "output_type": "execute_result"
    }
   ],
   "source": [
    "\n",
    "test_data.tail()"
   ]
  },
  {
   "cell_type": "code",
   "execution_count": 225,
   "id": "c17fbb1a",
   "metadata": {},
   "outputs": [
    {
     "name": "stdout",
     "output_type": "stream",
     "text": [
      "1956-01-01 00:00:00\n",
      "1960-12-01 00:00:00\n"
     ]
    }
   ],
   "source": [
    "pred_start_date=test_data.index[0]\n",
    "pred_end_date=test_data.index[-1]\n",
    "print(pred_start_date)\n",
    "print(pred_end_date)"
   ]
  },
  {
   "cell_type": "code",
   "execution_count": 226,
   "id": "24b7cfe6",
   "metadata": {},
   "outputs": [],
   "source": [
    "\n",
    "pred_Sarima=model_SARIMA_fit.predict(start=datetime(1956,6,6),end=datetime(1960,12,1))\n",
    "residuals=test_data['Thousands of Passengers']-pred_Sarima"
   ]
  },
  {
   "cell_type": "code",
   "execution_count": 227,
   "id": "6596f42b",
   "metadata": {},
   "outputs": [
    {
     "data": {
      "text/plain": [
       "<Axes: xlabel='Month'>"
      ]
     },
     "execution_count": 227,
     "metadata": {},
     "output_type": "execute_result"
    },
    {
     "data": {
      "image/png": "[encoded data removed]",
      "text/plain": [
       "<Figure size 640x480 with 1 Axes>"
      ]
     },
     "metadata": {},
     "output_type": "display_data"
    }
   ],
   "source": [
    "\n",
    "model_SARIMA_fit.resid.plot()"
   ]
  },
  {
   "cell_type": "code",
   "execution_count": 228,
   "id": "3c88a0de",
   "metadata": {},
   "outputs": [
    {
     "data": {
      "text/plain": [
       "<Axes: ylabel='Density'>"
      ]
     },
     "execution_count": 228,
     "metadata": {},
     "output_type": "execute_result"
    },
    {
     "data": {
      "image/png": "[encoded data removed]",
      "text/plain": [
       "<Figure size 640x480 with 1 Axes>"
      ]
     },
     "metadata": {},
     "output_type": "display_data"
    }
   ],
   "source": [
    "model_SARIMA_fit.resid.plot(kind='kde')"
   ]
  },
  {
   "cell_type": "code",
   "execution_count": 233,
   "id": "849093b9",
   "metadata": {},
   "outputs": [
    {
     "name": "stderr",
     "output_type": "stream",
     "text": [
      "C:\\Users\\shalu\\AppData\\Local\\Temp\\ipykernel_21828\\3839324945.py:1: SettingWithCopyWarning: \n",
      "A value is trying to be set on a copy of a slice from a DataFrame.\n",
      "Try using .loc[row_indexer,col_indexer] = value instead\n",
      "\n",
      "See the caveats in the documentation: https://pandas.pydata.org/pandas-docs/stable/user_guide/indexing.html#returning-a-view-versus-a-copy\n",
      "  test_data['Predicted Sarima']=pred_Sarima\n"
     ]
    }
   ],
   "source": [
    "\n",
    "test_data['Predicted Sarima']=pred_Sarima"
   ]
  },
  {
   "cell_type": "code",
   "execution_count": 235,
   "id": "d39f792c",
   "metadata": {},
   "outputs": [
    {
     "data": {
      "text/plain": [
       "<Axes: xlabel='Month'>"
      ]
     },
     "execution_count": 235,
     "metadata": {},
     "output_type": "execute_result"
    },
    {
     "data": {
      "image/png": "[encoded data removed]",
      "text/plain": [
       "<Figure size 640x480 with 1 Axes>"
      ]
     },
     "metadata": {},
     "output_type": "display_data"
    }
   ],
   "source": [
    "test_data[['Thousands of Passengers','Predicted Sarima','Predicted Arima']].plot()"
   ]
  },
  {
   "cell_type": "code",
   "execution_count": null,
   "id": "8579014c",
   "metadata": {},
   "outputs": [],
   "source": []
  }
 ],
 "metadata": {
  "kernelspec": {
   "display_name": "Python 3 (ipykernel)",
   "language": "python",
   "name": "python3"
  },
  "language_info": {
   "codemirror_mode": {
    "name": "ipython",
    "version": 3
   },
   "file_extension": ".py",
   "mimetype": "text/x-python",
   "name": "python",
   "nbconvert_exporter": "python",
   "pygments_lexer": "ipython3",
   "version": "3.11.4"
  }
 },
 "nbformat": 4,
 "nbformat_minor": 5
}
